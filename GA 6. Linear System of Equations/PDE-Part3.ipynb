{
 "cells": [
  {
   "cell_type": "code",
   "execution_count": 1,
   "metadata": {},
   "outputs": [],
   "source": [
    "%matplotlib inline\n",
    "import matplotlib.pyplot as plt\n",
    "import numpy as np\n",
    "import numpy.linalg as la\n",
    "import scipy.linalg as sla\n",
    "from CA_4_support import *\n",
    "\n",
    "from matplotlib import animation,rc\n",
    "from IPython.display import HTML"
   ]
  },
  {
   "cell_type": "markdown",
   "metadata": {},
   "source": [
    "<div class=\"alert alert-info\">\n",
    "\n",
    "<h1>Motivation: Cooling of a rod given an initial temperature </h1>\n",
    "\n",
    "<img src=\"heat_transfer.png\" width=500>\n",
    "\n",
    "The time-dependent diffusion equation is a partial differential equation (PDE) that is often used to model heat transfer problems:\n",
    "    \n",
    "$$\\frac{\\partial u}{\\partial t} - D\\frac{\\partial^2 u}{\\partial x^2} = 0$$\n",
    "    \n",
    "where $u$ is the temperature that varies in space $x$ and time $t$, i.e., $u(x,t)$. $D$ is the thermal diffusivity (in the example below assumed as 0.1).\n",
    "    \n",
    "</div>"
   ]
  },
  {
   "cell_type": "markdown",
   "metadata": {},
   "source": [
    "# Time-Dependent Diffusion Equation\n",
    "\n",
    "We will solve the PDE:\n",
    "\n",
    "$$\\frac{\\partial u}{\\partial t} - D\\frac{\\partial^2 u}{\\partial x^2} = 0$$\n",
    "\n",
    "In our example, a rod is placed between two insulated walls, and the space dimension is defined as $x \\in [-1,1]$. As such the boundary conditions become\n",
    "\n",
    "$$u(-1,t) = 0$$ \n",
    "$$ u(1,t) = 0$$\n",
    "\n",
    "for $t>0$, which states that after the initial condition, the temperature at the walls is fixed and equal to zero. The initial condition (the temperature at the initial time $t = 0$) is given as:\n",
    "\n",
    "\n",
    "$$u(x,0) = u_0 = 0.5 \\textrm{   for any    } x \\in [-1,1]$$\n",
    "\n",
    "\n",
    "Using physical intuition, you may see that the temperature $u \\rightarrow 0$ as $t \\rightarrow \\infty$.\n",
    "\n",
    "\n",
    "To find the solution $u(x,t)$ we will use the same time-stepping scheme of the same form:\n",
    "\n",
    "\\begin{align}\n",
    "\\mathbf{A}\\mathbf{u}^{(1)} &= \\mathbf{b}^{(0)}\\\\\n",
    "\\mathbf{A}\\mathbf{u}^{(2)} &= \\mathbf{b}^{(1)}\\\\\n",
    "\\mathbf{A}\\mathbf{u}^{(3)} &= \\mathbf{b}^{(2)}\\\\\n",
    "&\\ \\vdots\\\\\n",
    "\\mathbf{A}\\mathbf{u}^{(n+1)} &= \\mathbf{b}^{(n)}\n",
    "\\end{align}\n",
    "\n",
    "**Using SEM, we provide:**\n",
    "\n",
    "```python\n",
    "A,x =  SEM_system_3(N, dt)\n",
    "```\n",
    "\n",
    "that takes $N$ the number of intervals in space and the time interval $dt$, and returns the points $x_i$ in the interval $([-1,1]$ and the system matrix $\\mathbf{A}$. The return 1d numpy array `x` has shape `(N+1,)`, since it includes the end points. The system matrix `A` is stored as a 2d numpy array with shape `(N-1,N-1)` (since the temperature at the two end points are known and equal to zero).\n",
    "\n",
    "\n",
    "**We also provide:**\n",
    "\n",
    "```python\n",
    "bn = SEM_rhs_3(un)\n",
    "```\n",
    "to get the right-hand side $\\mathbf{b}^{(n)}$, which is a vector that depends on the temperature $\\mathbf{u}^{(n)}$ (at the same timestep). The input argument `un` is a 1d numpy array with shape `(N+1)` including the boundary conditions. The return value `bn` is a 1d numpy array with shape `(N-1,)`, since it excludes the known temperatures at the walls.\n",
    "\n",
    "**And we assume:**"
   ]
  },
  {
   "cell_type": "code",
   "execution_count": 2,
   "metadata": {},
   "outputs": [],
   "source": [
    "dt = 0.05            # time increment\n",
    "timesteps = 400      # number of timesteps\n",
    "u0 = 0.5             # initial temperature in the rod\n",
    "N = 100"
   ]
  },
  {
   "cell_type": "markdown",
   "metadata": {},
   "source": [
    "**Try this!**  \n",
    "\n",
    "Define the system matrix ${\\bf A}$ and the array with the discretized points ${\\bf x}$ :"
   ]
  },
  {
   "cell_type": "code",
   "execution_count": 3,
   "metadata": {},
   "outputs": [],
   "source": []
  },
  {
   "cell_type": "code",
   "execution_count": 4,
   "metadata": {},
   "outputs": [],
   "source": [
    "A.shape"
   ]
  },
  {
   "cell_type": "markdown",
   "metadata": {},
   "source": [
    "The diffusion equation leads to a *symmetric positive-definite* matrix.  This means that $\\mathbf{A} = \\mathbf{A}^T$ and the eigenvalues of $\\mathbf{A}$ are positive (your will learn about eigenvalues this week). Let's check!"
   ]
  },
  {
   "cell_type": "code",
   "execution_count": 5,
   "metadata": {},
   "outputs": [],
   "source": [
    "# check for symmetry\n",
    "print(np.allclose(A,A.T))\n",
    "\n",
    "# check that smallest eigenvalue is positive\n",
    "eig_vals = np.linalg.eigvals(A)\n",
    "print(np.min(eig_vals) > 0)"
   ]
  },
  {
   "cell_type": "markdown",
   "metadata": {},
   "source": [
    "Instead of an LU factorization, we'll use the Cholesky factorization: $\\mathbf{A} = \\mathbf{U}^T\\mathbf{U}$, where $\\mathbf{U}$ is an upper triangular matrix. \n",
    "\n",
    "[https://docs.scipy.org/doc/scipy/reference/generated/scipy.linalg.cholesky.html](https://docs.scipy.org/doc/scipy/reference/generated/scipy.linalg.cholesky.html)\n",
    "\n",
    "This is a more efficient factorization method for symmetric positive-definite matrices) - about half the number of floating operations of LU factorization.\n",
    "\n",
    "Let's compare the computational time for both methods:"
   ]
  },
  {
   "cell_type": "code",
   "execution_count": 6,
   "metadata": {},
   "outputs": [],
   "source": [
    "%timeit sla.cholesky(A)"
   ]
  },
  {
   "cell_type": "code",
   "execution_count": 7,
   "metadata": {},
   "outputs": [],
   "source": [
    "%timeit sla.lu(A)"
   ]
  },
  {
   "cell_type": "markdown",
   "metadata": {},
   "source": [
    "**Check your answers:** \n",
    "\n",
    "We will store all the vectors $\\mathbf{u}^{(0)}$, $\\mathbf{u}^{(1)}$, $\\mathbf{u}^{(2)}$,$\\dots$ as columns of a 2d numpy array `utotal` with the appropriate shape.\n",
    "\n",
    "```python\n",
    "utotal = np.zeros((N+1,timesteps+1))\n",
    "```\n",
    "\n",
    "Write the function `solve_diffusion` that returns the solution stored in `utotal`. Your function must call `sla.cholesky` and `sla.solve_triangular` to evolve the solution forward. \n",
    "\n",
    "\n",
    "**Hint:** \n",
    "\n",
    "- We should fill the first column of `utotal` before doing iterations. \n",
    "- The logic of this question and the LU are similar. What are L and U correspond to in this case?"
   ]
  },
  {
   "cell_type": "code",
   "execution_count": 8,
   "metadata": {},
   "outputs": [],
   "source": [
    "#grade (enter your code in this cell - DO NOT DELETE THIS LINE) \n",
    "def solve_diffusion(A,u0,N,timesteps):\n",
    "    # A: system matrix as 2d numpy array\n",
    "    # u0: initial temperature (scalar)\n",
    "    # N: number of intervals in space (along the rod)\n",
    "    # timestep: number of timesteps\n",
    "    \n",
    "    # write code here\n",
    "    \n",
    "    utotal = np.zeros((N+1,timesteps+1))\n",
    "    \n",
    "    return utotal"
   ]
  },
  {
   "cell_type": "code",
   "execution_count": 9,
   "metadata": {},
   "outputs": [],
   "source": [
    "utotal = solve_diffusion(A,u0,N,timesteps)"
   ]
  },
  {
   "cell_type": "markdown",
   "metadata": {},
   "source": [
    "Another movie.."
   ]
  },
  {
   "cell_type": "code",
   "execution_count": 10,
   "metadata": {},
   "outputs": [],
   "source": [
    "fig,ax = plt.subplots()\n",
    "ax.set_xlim((-1,1))\n",
    "ax.set_ylim((0,1.0))\n",
    "line, = ax.plot([],[],lw=2)\n",
    "\n",
    "def init():\n",
    "    line.set_data([],[])\n",
    "    return (line,)\n",
    "\n",
    "def animate(i):\n",
    "    y = utotal[:,i]\n",
    "    line.set_data(x,y)\n",
    "    return (line,)\n",
    "\n",
    "anim = animation.FuncAnimation(fig, animate, init_func=init,\n",
    "                               frames=100, interval=50, blit=True)\n",
    "\n",
    "rc('animation',html='html5')\n",
    "anim"
   ]
  },
  {
   "cell_type": "code",
   "execution_count": 11,
   "metadata": {},
   "outputs": [],
   "source": [
    "plt.plot(x,utotal[:,10])\n",
    "plt.ylim(0,1)"
   ]
  }
 ],
 "metadata": {
  "kernelspec": {
   "display_name": "Python 3 (ipykernel)",
   "language": "python",
   "name": "python3"
  },
  "language_info": {
   "codemirror_mode": {
    "name": "ipython",
    "version": 3
   },
   "file_extension": ".py",
   "mimetype": "text/x-python",
   "name": "python",
   "nbconvert_exporter": "python",
   "pygments_lexer": "ipython3",
   "version": "3.10.9"
  },
  "vscode": {
   "interpreter": {
    "hash": "7c542a7265b469db6859397babca18ef0dad147b66139392a35085f4df047a42"
   }
  }
 },
 "nbformat": 4,
 "nbformat_minor": 2
}
