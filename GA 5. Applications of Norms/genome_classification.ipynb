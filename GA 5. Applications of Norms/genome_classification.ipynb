{
 "cells": [
  {
   "cell_type": "code",
   "execution_count": 2,
   "metadata": {},
   "outputs": [],
   "source": [
    "import numpy as np\n",
    "import numpy.linalg as la\n",
    "from helper_funcs import generate_genomic_sequences"
   ]
  },
  {
   "cell_type": "markdown",
   "metadata": {},
   "source": [
    "# Genome classification\n",
    "\n",
    "In computational biology, a typical problem is:\n",
    "\n",
    "- given a small strand of DNA, find if that DNA belong to a known mapped organism. \n",
    "\n",
    "DNA is comprised of long chains of base pairs.\n",
    "4 nucleobases make up all of any organism's DNA.\n",
    "These 4 nucleobases are A,T, C, and G.\n",
    "\n",
    "Here is a small example of what a small snippet of a single sequence of DNA could look like:\n",
    "\n",
    "```python\n",
    "genome_seq = 'ATCGATTGAGCTCTAGCG'\n",
    "```\n",
    "\n",
    "Now, supposed we have sequenced some DNA for an unknown organism.\n",
    "```python\n",
    "small_sample = 'ATCG'\n",
    "```\n",
    "\n",
    "Does the small sample of DNA belong to the same organism as the provided genomic sequence?\n",
    "\n",
    "We are going to be using our knowledge of **norms** to answer this question. But first, we need to convert the strand of DNA into an array of numbers:"
   ]
  },
  {
   "cell_type": "markdown",
   "metadata": {},
   "source": [
    "### Write a function to convert a DNA sequence to an array of numbers"
   ]
  },
  {
   "cell_type": "markdown",
   "metadata": {},
   "source": [
    "For this conversion, you are going to make the following assumption:\n",
    "\n",
    "A = 1, T = 2, C = 3, G = 4."
   ]
  },
  {
   "cell_type": "code",
   "execution_count": 5,
   "metadata": {},
   "outputs": [],
   "source": [
    "#grade (enter your code in this cell - DO NOT DELETE THIS LINE) \n",
    "def char_to_num(char):\n",
    "    lookup = {\n",
    "        'A' : 1,\n",
    "        'T' : 2,\n",
    "        'C' : 3,\n",
    "        'G' : 4\n",
    "    }\n",
    "    return lookup[char]\n",
    "\n",
    "def seq_to_array(dna):\n",
    "    # Converts the string dna into a numpy array\n",
    "    # where each element corresponds to the numeric value of a nucleobase \n",
    "    # dna: string\n",
    "    # numeric_dna: 1d numpy array of type integer\n",
    "    \n",
    "    # complete the function\n",
    "    numeric_dna = [char_to_num(x) for x in dna]\n",
    "    return np.array(numeric_dna)"
   ]
  },
  {
   "cell_type": "markdown",
   "metadata": {},
   "source": [
    "Test your function by using it on the sequence `genome_seq`."
   ]
  },
  {
   "cell_type": "code",
   "execution_count": 6,
   "metadata": {},
   "outputs": [
    {
     "name": "stdout",
     "output_type": "stream",
     "text": [
      "[1 2 3 4 1 2 2 4 1 4 3 2 3 2 1 4 3 4]\n"
     ]
    }
   ],
   "source": [
    "genome_seq = 'ATCGATTGAGCTCTAGCG'\n",
    "genome_numeric = seq_to_array(genome_seq)\n",
    "print(genome_numeric)"
   ]
  },
  {
   "cell_type": "markdown",
   "metadata": {},
   "source": [
    "Now that we have the numpy array, we can use vector norms to determine whether a small sample of DNA belongs to a larger known DNA sequence.\n",
    "\n",
    "Suppose that $v_1$ is a subset of the larger known DNA sequence, and $v_2$ the small unknown sample of DNA.\n",
    "\n",
    "The small unknown sample belongs to the DNA sequence if we can find a $v_1$ such that:\n",
    "\n",
    "$$\n",
    "||v_1-v_2||_1 = 0.\n",
    "$$\n"
   ]
  },
  {
   "cell_type": "markdown",
   "metadata": {},
   "source": [
    "In this example, we are trying to find a match by comparing a DNA sample with the known sequence for a group of animals. We give you the list of animals `animals_list`, the DNA sequence for each animal in the list `animal_dna` and the smaller sample DNA `unknown_dna`."
   ]
  },
  {
   "cell_type": "code",
   "execution_count": 7,
   "metadata": {},
   "outputs": [
    {
     "name": "stdout",
     "output_type": "stream",
     "text": [
      "CTCGCATGCGCTCTCG\n",
      "{'dog': 'ATCGATTGAGCTCTAGCCAGCTAGGAACGCAACTAGATTGATCGAGCTATCTAGTTATCTCTATCCAGCTAGGAACGCAAATCGATTGAGCTCTAGTTCGTAAGCAATGTAATTCGTAAGCAATGTAAATCTAGTTATCTCTATATCTAGTTATCTCTATCCAGCTAGGAACGCAAATCTAGTTATCTCTATCTCGCATGCGCTCTCGCCAGCTAGGAACGCAAATCGATTGAGCTCTAGCTAGATTGATCGAGCT', 'bear': 'ATCGATTGAGCTCTAGTTCGTAAGCAATGTAAATCGATTGAGCTCTAGTTCGTAAGCAATGTAATTCGTAAGCAATGTAACCAGCTAGGAACGCAAATCGATTGAGCTCTAGATCGATTGAGCTCTAGATCTAGTTATCTCTATATCTAGTTATCTCTATATCTAGTTATCTCTATATCTAGTTATCTCTATTTCGTAAGCAATGTAAATCTAGTTATCTCTATCTAGATTGATCGAGCTTTCGTAAGCAATGTAA', 'giraffe': 'ATCTAGTTATCTCTATATCGATTGAGCTCTAGCTAGATTGATCGAGCTCTAGATTGATCGAGCTATCTAGTTATCTCTATATCTAGTTATCTCTATATCGATTGAGCTCTAGCCAGCTAGGAACGCAACTAGATTGATCGAGCTATCTAGTTATCTCTATCTAGATTGATCGAGCTCCAGCTAGGAACGCAAATCTAGTTATCTCTATATCGATTGAGCTCTAGCTAGATTGATCGAGCTATCTAGTTATCTCTAT', 'tiger': 'ATCGATTGAGCTCTAGCTAGATTGATCGAGCTATCGATTGAGCTCTAGCTAGATTGATCGAGCTCCAGCTAGGAACGCAATTCGTAAGCAATGTAACCAGCTAGGAACGCAAATCTAGTTATCTCTATATCGATTGAGCTCTAGATCTAGTTATCTCTATCCAGCTAGGAACGCAATTCGTAAGCAATGTAACCAGCTAGGAACGCAAATCGATTGAGCTCTAGATCTAGTTATCTCTATATCTAGTTATCTCTAT'}\n"
     ]
    }
   ],
   "source": [
    "# generate inputs for students\n",
    "animals_list = ['dog', 'bear', 'giraffe', 'tiger']\n",
    "animal_dna, unknown_dna = generate_genomic_sequences(animals_list)\n",
    "print(unknown_dna)\n",
    "print(animal_dna)"
   ]
  },
  {
   "cell_type": "markdown",
   "metadata": {},
   "source": [
    "Take a look at the code snippet below. It uses the function `find_the_match` that is not yet defined (so you will get an error if you try to run it now!)"
   ]
  },
  {
   "cell_type": "code",
   "execution_count": 48,
   "metadata": {},
   "outputs": [
    {
     "name": "stdout",
     "output_type": "stream",
     "text": [
      "Trying to find a match for  CTCGCATGCGCTCTCG\n",
      "The sample DNA matches the sequence of the dog starting at position 192\n"
     ]
    }
   ],
   "source": [
    "print('Trying to find a match for ', unknown_dna)\n",
    "for animal in animal_dna:\n",
    "    \n",
    "    known_dna = animal_dna[animal]\n",
    "\n",
    "    numeric_genome = seq_to_array(known_dna)\n",
    "    numeric_sample = seq_to_array(unknown_dna)\n",
    "    \n",
    "    pos,diff = find_the_match(numeric_sample, numeric_genome)\n",
    "    \n",
    "    if pos >= 0:\n",
    "        print('The sample DNA matches the sequence of the', animal, 'starting at position', pos)\n",
    "        break\n",
    "        \n",
    "if pos < 0:  \n",
    "    print('Could not find a match')\n",
    "    \n"
   ]
  },
  {
   "cell_type": "markdown",
   "metadata": {},
   "source": [
    "### Write the function `find_the_match`\n",
    "\n",
    "that uses the 1-norm to find the DNA sequence that matches the sample DNA. \n",
    "\n",
    "```python\n",
    "def find_the_match(numeric_sample, numeric_genome)\n",
    "\n",
    "    return match_pos, diff_arr\n",
    "```\n",
    "\n",
    "The function takes the 1d numpy array that were converted from the DNA strings, and returns 2 outputs:\n",
    "- a non-negative integer <code>match_pos</code> which represents the position in the DNA sequence where the match starts (recall that python starts the index at zero). If no match found, return -1.\n",
    "\n",
    "- a numpy array <code>diff_arr</code> that contains list of differences (compute using 1-norm) between sample DNA <code>numeric_sample</code> and all possible subsequences of <code>numeric_genome</code>. Ex.<code>diff_arr[1]</code> is the differrence between <code>numeric_sample</code> and <code>numeric_genome[1:1+len(numeric_sample)]</code>.\n",
    "\n",
    "\n",
    "Run the code snippet above that uses your now defined function, and check your results. You can also generate other input values (animal list), and re-run your code snippet."
   ]
  },
  {
   "cell_type": "code",
   "execution_count": 49,
   "metadata": {},
   "outputs": [],
   "source": [
    "#grade (enter your code in this cell - DO NOT DELETE THIS LINE) \n",
    "def find_the_match(numeric_sample, numeric_genome):\n",
    "    \n",
    "    match_pos = None\n",
    "    diff_arr = []\n",
    "    \n",
    "    for start in range(0, len(numeric_genome) - len(numeric_sample) + 1):\n",
    "        subgenome = numeric_genome[start : start + len(numeric_sample)]\n",
    "        diff_arr.append(la.norm(numeric_sample - subgenome, 1))\n",
    "        \n",
    "    match_pos = np.argmin(diff_arr)\n",
    "    if diff_arr[match_pos] != 0:\n",
    "        match_pos = -1\n",
    "    \n",
    "    return match_pos, np.array(diff_arr)\n",
    "\n",
    "# numeric_sample = np.array([1, 2, 3])\n",
    "# numeric_genome = np.array([1, 2, 3, 4, 5])\n",
    "# _, arr = find_the_match(numeric_sample, numeric_genome)\n",
    "# print(_, arr)"
   ]
  },
  {
   "cell_type": "code",
   "execution_count": null,
   "metadata": {},
   "outputs": [],
   "source": []
  },
  {
   "cell_type": "code",
   "execution_count": null,
   "metadata": {},
   "outputs": [],
   "source": []
  }
 ],
 "metadata": {
  "kernelspec": {
   "display_name": "Python 3 (ipykernel)",
   "language": "python",
   "name": "python3"
  },
  "language_info": {
   "codemirror_mode": {
    "name": "ipython",
    "version": 3
   },
   "file_extension": ".py",
   "mimetype": "text/x-python",
   "name": "python",
   "nbconvert_exporter": "python",
   "pygments_lexer": "ipython3",
   "version": "3.10.9"
  }
 },
 "nbformat": 4,
 "nbformat_minor": 4
}
