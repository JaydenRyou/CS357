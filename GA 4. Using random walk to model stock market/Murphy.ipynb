{
  "cells": [
    {
      "cell_type": "code",
      "execution_count": 1,
      "metadata": {},
      "outputs": [],
      "source": [
        "import numpy as np\n",
        "import matplotlib.pyplot as plt\n",
        "%matplotlib inline\n",
        "import random"
      ]
    },
    {
      "cell_type": "markdown",
      "metadata": {},
      "source": [
        "### An example of a 2-d random walk"
      ]
    },
    {
      "cell_type": "markdown",
      "metadata": {},
      "source": [
        "Mariastenchia was in urgent need to use the restroom. Luckly, she saw Murphy's pub open and decided to go in for  relief. \n",
        "\n",
        "Unfortunately, Mariastenchia is not feeling very well, and due to some unknown reasons, she is confused and dizzy, and hence not sure if she can make it to the bathroom. After a quick evaluation, she decided that if she cannot get there in less than 300 steps, she will be in serious trouble.\n",
        "\n",
        "Do you think she can make a successful trip to the restroom? Let's help her estimating her odds.\n",
        "\n",
        "![](murphy2.jpg)\n"
      ]
    },
    {
      "cell_type": "markdown",
      "metadata": {},
      "source": [
        " The helper function below plots the floor plan."
      ]
    },
    {
      "cell_type": "code",
      "execution_count": 2,
      "metadata": {},
      "outputs": [],
      "source": [
        "# Helper function to draw the floor plan\n",
        "# You should not modify anything here\n",
        "def draw_murphy(wc,person,room_size):\n",
        "    fig = plt.figure(figsize=(6,6))\n",
        "    ax = fig.add_subplot(111)\n",
        "    plt.xlim(0,room_size)\n",
        "    plt.ylim(0,room_size)\n",
        "    plt.xlabel(\"X Position\")\n",
        "    plt.ylabel(\"Y Position\");\n",
        "    ax.set_aspect('equal')\n",
        "    \n",
        "    rect = plt.Rectangle(wc[:2], wc[-1], wc[-1], color=(0.6,0.2,0.1) )\n",
        "    ax.add_patch(rect)\n",
        "    plt.text(wc[0],wc[1]+wc[2]+0.2,\"WC\")\n",
        "\n",
        "    rect = plt.Rectangle((0,0),2,0.1, color=(0,0,1) )\n",
        "    ax.add_patch(rect)\n",
        "    plt.text(0.5,0.2,\"door\")\n",
        "   \n",
        "    circle = plt.Circle(person[:2], 0.3, color=(1,0,0))\n",
        "    ax.add_patch(circle)"
      ]
    },
    {
      "cell_type": "markdown",
      "metadata": {},
      "source": [
        "#### Let's take a look at the floor plan of Murphy's pub"
      ]
    },
    {
      "cell_type": "markdown",
      "metadata": {},
      "source": [
        "We will simplify the floor plan with a square domain of size `room_size = 10`. The bottom left corner of the room will be used as the origin, i.e. the position `(x,y) = (0,0)`.\n",
        "\n",
        "The bathroom location is indicated by a square, with the left bottom corner located at `(8,8)` and dimension `h = 1`. These quantities are stored as a tuple `bathroom = (8,8,1)`.\n",
        "\n",
        " The street door is located at the bottom half, indicated by the blue line. Mariastenchia initial position is given by `initial_position = (1,1)`, marked with a red half-dot."
      ]
    },
    {
      "cell_type": "code",
      "execution_count": 3,
      "metadata": {},
      "outputs": [],
      "source": [
        "room_size = 10\n",
        "bathroom = (8,8,1) \n",
        "initial_position = (1,1)"
      ]
    },
    {
      "cell_type": "markdown",
      "metadata": {},
      "source": [
        "We will simplify Mariastenchia's challenge and remove all the tables and the bar area inside Murphy's. Here is how the room looks like in our simplified floor plan (you can go crazy later and improve the layout!)"
      ]
    },
    {
      "cell_type": "code",
      "execution_count": 4,
      "metadata": {},
      "outputs": [],
      "source": [
        "draw_murphy(bathroom,initial_position,room_size)"
      ]
    },
    {
      "cell_type": "markdown",
      "metadata": {},
      "source": [
        "#### How are we going to model Mariastenchia's walk?"
      ]
    },
    {
      "cell_type": "markdown",
      "metadata": {},
      "source": [
        "- Since Mariastenchia is dizzy and confused, we will model her steps as a random walk. \n",
        "\n",
        "- Each step will be modeled by a magnitude and direction in a 2d plane. We will assume the magnitude as 1.\n",
        "\n",
        "- The direction is given by a random angle $\\alpha$ between $0$ and $2\\pi$.\n",
        "\n",
        "- Combining the angle and magnitude, her step is defined as:\n",
        "\n",
        "$$ step = [\\cos(\\alpha), \\sin(\\alpha)]$$\n",
        "\n"
      ]
    },
    {
      "cell_type": "markdown",
      "metadata": {},
      "source": [
        "Write the function `random_step` that takes as argument the current position, and returns the new position based on a random step with orientation $\\alpha$."
      ]
    },
    {
      "cell_type": "code",
      "execution_count": 5,
      "metadata": {},
      "outputs": [],
      "source": [
        "def random_step(current_position):\n",
        "    \n",
        "    new_position = current_position.copy() \n",
        "    \n",
        "    # complete this function here\n",
        "    \n",
        "    \n",
        "    return(new_position)"
      ]
    },
    {
      "cell_type": "markdown",
      "metadata": {},
      "source": [
        "Let's make Mariastenchia give her 300 steps, using the function `random_step`. Update the list `position` to include all the random steps that she takes as she tries to reach the batthroom. "
      ]
    },
    {
      "cell_type": "code",
      "execution_count": 6,
      "metadata": {},
      "outputs": [],
      "source": [
        "N = 300\n",
        "position = [list(initial_position)]"
      ]
    },
    {
      "cell_type": "code",
      "execution_count": 7,
      "metadata": {},
      "outputs": [],
      "source": [
        "for i in range(N-1):\n",
        "    # complete this code snippet\n"
      ]
    },
    {
      "cell_type": "markdown",
      "metadata": {},
      "source": [
        "Plot her path from the door (given by the variable `initial_position` above) to her final location. Did she reach the bathroom?"
      ]
    },
    {
      "cell_type": "code",
      "execution_count": 11,
      "metadata": {},
      "outputs": [],
      "source": [
        "draw_murphy(bathroom,initial_position,room_size)\n",
        "x,y = zip(*position)\n",
        "plt.plot(x,y)"
      ]
    },
    {
      "cell_type": "markdown",
      "metadata": {},
      "source": [
        "You probably noticed Mariastenchia hitting walls, or even walking through them! Let's make sure we impose this constraints to the random walk, so we can get some feasible solution. Here are the rules for Mariastenchia's walk:"
      ]
    },
    {
      "cell_type": "markdown",
      "metadata": {},
      "source": [
        "- If Mariastenchia runs into a wall, the simulation stops, and we call it a \"failure\" (ops!)\n",
        "- If the sequence of steps takes Mariastenchia to the restroom, the simulation stops, and we call it a success (yay!).\n",
        "- To simplify the problem, the \"restroom\" does not have a door, and Mariastenchia can \"enter\" the square through any of its sides.\n",
        "- Mariastenchia needs to reach the restroom in less than 100 steps, otherwise the simulation stops (at this point, it is a little too late for her...). This is also called a failure."
      ]
    },
    {
      "cell_type": "markdown",
      "metadata": {},
      "source": [
        "The function `check_rules` checks if the `new_position` is a valid one, according to the rules above. The function returns `0` if the `new_position` is a valid step (still inside Murphy's and searching for the restroom), `1` if `new_position` is inside the restroom (sucess), and `-1` if `new_position` is a failure (Mariastenchia became a super woman and crossed a wall)"
      ]
    },
    {
      "cell_type": "code",
      "execution_count": 12,
      "metadata": {},
      "outputs": [],
      "source": [
        "def check_rules(room_size,wc,current_position):\n",
        "    x,y,h = wc\n",
        "    # Checking if inside the room:\n",
        "    if ( (current_position[0] > 0) & (current_position[0] < room_size) & (current_position[1] > 0) & (current_position[1] < room_size)):\n",
        "        # Checking if found the restroom\n",
        "        if ( (current_position[0] > x) & (current_position[0] < x + h) & (current_position[1] > y) & (current_position[1] < y + h)):\n",
        "            return 1 \n",
        "        else:\n",
        "            return 0\n",
        "    else:\n",
        "        return (-1)"
      ]
    },
    {
      "cell_type": "markdown",
      "metadata": {
        "collapsed": true
      },
      "source": [
        "Modify the code snippet below, so that for every step, you check for the constraints using `check_rules`. Instead of giving all the 300 steps, you should stop earlier in case she reaches the restroom (`check_rules == 1`) or she hits a wall ( `check_rules == -1`). Store her walk in a new array `position_constrained`"
      ]
    },
    {
      "cell_type": "code",
      "execution_count": 19,
      "metadata": {},
      "outputs": [],
      "source": [
        "N = 300\n",
        "position_constrained = [list(initial_position)]\n",
        "\n",
        "for i in range(N-1):\n",
        "    \n",
        "    # complete the code snippet\n"
      ]
    },
    {
      "cell_type": "code",
      "execution_count": 20,
      "metadata": {},
      "outputs": [],
      "source": [
        "draw_murphy(bathroom,initial_position,room_size)  \n",
        "x,y = zip(*position_constrained)\n",
        "plt.plot(x,y)"
      ]
    },
    {
      "cell_type": "markdown",
      "metadata": {},
      "source": [
        "It looks like this random walk does not give her much of a chance to get to the restroom. She may need more steps, or we can modify her walk to be a little less random. All you need to do is to modify your function `random_step`. What about we make her move forwards (in the positive direction of y) with a 70% probability (meaning she would move backwards with 30% probability). \n",
        "\n",
        "Create a new function `random_step_prob` similar to `random_step` such that there is more chance that Mariastenchia will be moving towards the bathroom."
      ]
    },
    {
      "cell_type": "code",
      "execution_count": 21,
      "metadata": {},
      "outputs": [],
      "source": [
        "def random_step_prob(current_position):\n",
        "    new_position = current_position.copy()\n",
        "    \n",
        "    # complete this function here\n",
        "    \n",
        "    return(new_position)"
      ]
    },
    {
      "cell_type": "markdown",
      "metadata": {},
      "source": [
        "#### Let's estimate the probability Mariastenchia reaches the restroom:\n",
        "\n",
        "You should now run many simulations (one attempt to reach the restroom), and tally how many attempts are successful. The probability to reach the bathroom is `n_success/M`. Complete the code below:\n"
      ]
    },
    {
      "cell_type": "code",
      "execution_count": null,
      "metadata": {},
      "outputs": [],
      "source": [
        "success = 0\n",
        "track_paths = []\n",
        "\n",
        "M = 100000\n",
        "N = 300\n",
        "\n",
        "for i in range(M):\n",
        "\n",
        "    position = [list(initial_position)]    \n",
        "\n",
        "    # Perform One numerical experiment to check if successful trip to restroom or not\n",
        "    # Write your code snippet here to define \"result\"\n",
        "            \n",
        "    if ((result == 1) & (not i%(M/100))):\n",
        "        track_paths.append(position)\n",
        "            \n",
        "\n",
        "draw_murphy(bathroom,initial_position,room_size)  \n",
        "for l in range(len(track_paths)):\n",
        "    x,y = zip(*track_paths[l])\n",
        "    plt.plot(x,y)\n",
        "\n",
        "print(\"probability is \", success/M)"
      ]
    },
    {
      "cell_type": "code",
      "execution_count": null,
      "metadata": {},
      "outputs": [],
      "source": []
    },
    {
      "cell_type": "code",
      "execution_count": null,
      "metadata": {},
      "outputs": [],
      "source": []
    }
  ],
  "metadata": {
    "kernelspec": {
      "display_name": "Python 3",
      "language": "python",
      "name": "python3"
    },
    "language_info": {
      "codemirror_mode": {
        "name": "ipython",
        "version": 3
      },
      "file_extension": ".py",
      "mimetype": "text/x-python",
      "name": "python",
      "nbconvert_exporter": "python",
      "pygments_lexer": "ipython3",
      "version": "3.8.0"
    }
  },
  "nbformat": 4,
  "nbformat_minor": 4
}