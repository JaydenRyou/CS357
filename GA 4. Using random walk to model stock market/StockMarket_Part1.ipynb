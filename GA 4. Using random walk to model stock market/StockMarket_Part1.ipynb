{
 "cells": [
  {
   "cell_type": "code",
   "execution_count": 1,
   "metadata": {},
   "outputs": [],
   "source": [
    "import numpy as np\n",
    "import matplotlib.pyplot as plt\n",
    "%matplotlib inline"
   ]
  },
  {
   "cell_type": "markdown",
   "metadata": {},
   "source": [
    "### Modeling stock prices (simple model)"
   ]
  },
  {
   "cell_type": "markdown",
   "metadata": {},
   "source": [
    "Suppose that we are interested in investing in a specific stock. We want to predict what the future price might be with some probability in order for us to determine whether or not we should invest.\n",
    "\n",
    "\n",
    "The simplest way to model the movement of the price of an asset in a market with no moving forces is to assume that the price changes with some random magnitude and direction, following a random walk model. \n",
    "\n",
    "$$p_{t} =  p_{t-1} + \\delta p $$\n",
    "\n",
    "We model the magnitude of the price change with the roll of a die. The function `dice` \"rolls\" an integer number from 1 to 6."
   ]
  },
  {
   "cell_type": "code",
   "execution_count": 2,
   "metadata": {},
   "outputs": [],
   "source": [
    "def dice():\n",
    "    return np.random.randint(1,7)"
   ]
  },
  {
   "cell_type": "markdown",
   "metadata": {},
   "source": [
    "To model prices increasing or decreasing, we will use the \"flip\" of a coin. The function `flip` returns either $-1$ (decreasing price) or $1$ (increasing price)."
   ]
  },
  {
   "cell_type": "code",
   "execution_count": 3,
   "metadata": {},
   "outputs": [],
   "source": [
    "def flip():\n",
    "    return np.random.choice([1, -1])"
   ]
  },
  {
   "cell_type": "markdown",
   "metadata": {},
   "source": [
    "By combining these two functions, we are able to obtain the price change at a given time. **Here we will assume that a coin flip combined with a dice roll gives the price change for a given day.** This is your \"step\" $\\delta p$ in the random walk.\n"
   ]
  },
  {
   "cell_type": "code",
   "execution_count": 4,
   "metadata": {},
   "outputs": [],
   "source": [
    "def step():\n",
    "    return flip()*dice()"
   ]
  },
  {
   "cell_type": "markdown",
   "metadata": {},
   "source": [
    "#### a) Performing one numerical experiment:\n",
    "\n",
    "Use the random walk model to predict the asset price for each day over a period of $N$ days. The initial price of the stock is $p0$. "
   ]
  },
  {
   "cell_type": "code",
   "execution_count": 5,
   "metadata": {},
   "outputs": [],
   "source": [
    "N = 1000\n",
    "p0 = 100"
   ]
  },
  {
   "cell_type": "markdown",
   "metadata": {},
   "source": [
    "Define the variable `price`, a 1d numpy array that stores the price per day. The first entry of `price` must be the initial price defined as `p0`. Use the function `step()` defined above."
   ]
  },
  {
   "cell_type": "code",
   "execution_count": 8,
   "metadata": {},
   "outputs": [],
   "source": [
    "price = [p0]\n",
    "while len(price) < 1000:\n",
    "    price.append(price[-1] + step())\n",
    "price = np.array(price)"
   ]
  },
  {
   "cell_type": "code",
   "execution_count": 9,
   "metadata": {},
   "outputs": [
    {
     "data": {
      "text/plain": [
       "[<matplotlib.lines.Line2D at 0x7fc145208580>]"
      ]
     },
     "execution_count": 9,
     "metadata": {},
     "output_type": "execute_result"
    },
    {
     "data": {
      "image/png": "[encoded data removed]",
      "text/plain": [
       "<Figure size 432x288 with 1 Axes>"
      ]
     },
     "metadata": {
      "needs_background": "light"
     },
     "output_type": "display_data"
    }
   ],
   "source": [
    "plt.plot(price)"
   ]
  },
  {
   "cell_type": "markdown",
   "metadata": {},
   "source": [
    "Does this plot resemble the short-term movement of the stock market?\n",
    "\n",
    "**Observations**:\n",
    "\n",
    "Performing one time step per day may not be enough to fully capture the randomness of the motion of the market. In practice, these N steps would really represent what the price might be in some shorter period of time (much less than a whole day).\n",
    "\n",
    "Furthermore, performing a single numerical experiment will not give us a realistic expectation of what the price of the stock might be after a certain amount of time since the stock market with no moving forces consists of random movements.\n",
    "\n",
    "Run the code snippet above several times (just do shift-enter again and again). What happens to the asset price after N days?"
   ]
  },
  {
   "cell_type": "markdown",
   "metadata": {},
   "source": [
    "We will be running several numerical experiments that simulates the price variation over N days. Wrap the code snippet above in the function `simulate_asset_price` that takes `N` and `p0` as argument and returns the array `price`. Recall that the first entry of `price` must be the initial price defined as `p0`. Note that the length of `price` should be `N`.\n",
    "\n",
    "**Hint: Make sure you are not using any other random function inside `simulate_asset_price`, except `step`**. Otherwise, our tests will not be able to grade your code correctly. You should keep this in mind when writing all the other functions in this notebook."
   ]
  },
  {
   "cell_type": "code",
   "execution_count": 10,
   "metadata": {},
   "outputs": [],
   "source": [
    "#grade (enter your code in this cell - DO NOT DELETE THIS LINE) \n",
    "def simulate_asset_price(N,p0):\n",
    "    # N: numpber of days\n",
    "    # p0: initial price \n",
    "    # price: 1d numpy array with price fluctuations and shape (N,)\n",
    "    \n",
    "    price = [p0]\n",
    "    while len(price) < N:\n",
    "        price.append(price[-1] + step())\n",
    "    price = np.array(price)\n",
    "    \n",
    "    return price"
   ]
  },
  {
   "cell_type": "markdown",
   "metadata": {},
   "source": [
    "After your write your function, run the code snippet below:"
   ]
  },
  {
   "cell_type": "code",
   "execution_count": 11,
   "metadata": {},
   "outputs": [
    {
     "data": {
      "text/plain": [
       "array([ 10,   4,  -2,   3,   0,  -4,  -8, -10, -16, -20])"
      ]
     },
     "execution_count": 11,
     "metadata": {},
     "output_type": "execute_result"
    }
   ],
   "source": [
    "np.random.seed(30)\n",
    "simulate_asset_price(10,10)"
   ]
  },
  {
   "cell_type": "markdown",
   "metadata": {},
   "source": [
    "Make sure you have the same output as the array shown below before grading, or you may have called the function step() more times than it is actually necessary."
   ]
  },
  {
   "cell_type": "markdown",
   "metadata": {},
   "source": [
    "array([ 10,   4,  -2,   3,   0,  -4,  -8, -10, -16, -20])"
   ]
  },
  {
   "cell_type": "markdown",
   "metadata": {},
   "source": [
    "#### b) Performing M=10 different numerical experiments, each one with N = 1000 days"
   ]
  },
  {
   "cell_type": "markdown",
   "metadata": {},
   "source": [
    "You will now perform M=10 numerical experiment, in each one computing the array `price` using N = 1000 days.\n",
    "\n",
    "Define the 2d numpy array `price_M` with shape `(N,M)`, where each column stores the array `price` for each numerical experiment. \n",
    "\n",
    "**Use your already defined function `simulate_asset_price` with `p0 = 200`.** Do not use any other random function in your code snippet.\n"
   ]
  },
  {
   "cell_type": "code",
   "execution_count": 13,
   "metadata": {},
   "outputs": [],
   "source": [
    "N = 1000 # days\n",
    "M = 10   # number of numerical experiments\n",
    "p0 = 200 # initial asset price"
   ]
  },
  {
   "cell_type": "code",
   "execution_count": 21,
   "metadata": {},
   "outputs": [
    {
     "ename": "TypeError",
     "evalue": "only integer scalar arrays can be converted to a scalar index",
     "output_type": "error",
     "traceback": [
      "\u001b[0;31m---------------------------------------------------------------------------\u001b[0m",
      "\u001b[0;31mTypeError\u001b[0m                                 Traceback (most recent call last)",
      "\u001b[0;32m/tmp/ipykernel_99/316476760.py\u001b[0m in \u001b[0;36m<module>\u001b[0;34m\u001b[0m\n\u001b[1;32m      4\u001b[0m     \u001b[0mprice_M\u001b[0m\u001b[0;34m.\u001b[0m\u001b[0mappend\u001b[0m\u001b[0;34m(\u001b[0m\u001b[0msimulate_asset_price\u001b[0m\u001b[0;34m(\u001b[0m\u001b[0mN\u001b[0m\u001b[0;34m,\u001b[0m \u001b[0mp0\u001b[0m\u001b[0;34m)\u001b[0m\u001b[0;34m)\u001b[0m\u001b[0;34m\u001b[0m\u001b[0;34m\u001b[0m\u001b[0m\n\u001b[1;32m      5\u001b[0m \u001b[0;34m\u001b[0m\u001b[0m\n\u001b[0;32m----> 6\u001b[0;31m \u001b[0mprice_M\u001b[0m \u001b[0;34m=\u001b[0m \u001b[0mnp\u001b[0m\u001b[0;34m.\u001b[0m\u001b[0mndarray\u001b[0m\u001b[0;34m(\u001b[0m\u001b[0mprice_M\u001b[0m\u001b[0;34m)\u001b[0m\u001b[0;34m\u001b[0m\u001b[0;34m\u001b[0m\u001b[0m\n\u001b[0m\u001b[1;32m      7\u001b[0m \u001b[0mprice_M\u001b[0m \u001b[0;34m=\u001b[0m \u001b[0mprice_M\u001b[0m\u001b[0;34m.\u001b[0m\u001b[0mT\u001b[0m\u001b[0;34m\u001b[0m\u001b[0;34m\u001b[0m\u001b[0m\n",
      "\u001b[0;31mTypeError\u001b[0m: only integer scalar arrays can be converted to a scalar index"
     ]
    }
   ],
   "source": [
    "price_M = []\n",
    "\n",
    "for i in range(0, M):\n",
    "    price_M.append(simulate_asset_price(N, p0))\n",
    "\n",
    "price_M = np.ndarray(price_M)\n",
    "price_M = price_M.T"
   ]
  },
  {
   "cell_type": "markdown",
   "metadata": {},
   "source": [
    "Then you can plot your results using:"
   ]
  },
  {
   "cell_type": "code",
   "execution_count": null,
   "metadata": {},
   "outputs": [],
   "source": [
    "plt.figure()\n",
    "plt.plot(price_M);\n",
    "plt.title ('M numerical experiments');\n",
    "plt.xlabel('Day');\n",
    "plt.ylabel('Price');"
   ]
  },
  {
   "cell_type": "markdown",
   "metadata": {},
   "source": [
    "Try running the above cells a few times. You will see your results are going to look different each time! \n",
    "\n",
    "\n",
    "Write the function `predict_stock_prices` with the following signature:\n",
    "\n",
    "```python\n",
    "def predict_stock_prices(M,N,p0):\n",
    "    \n",
    "    # write code here\n",
    "    \n",
    "    return (predicted_prices, expected_value)\n",
    "```\n",
    "\n",
    "Your function will include the code snippet above that computes `price_M` for the given arguments `(M,N,p0)`, and use `price_M` to compute:\n",
    "\n",
    "- `predicted_prices`: 1d numpy array with shape `(M,)` that contains the predicted asset prices for day \"N\" for all the \"M\" numerical experiments. Note that day \"N\" is the last day of each experiment.\n",
    "\n",
    "- `expected_value`: the “expected value”(mean value) for the stock on the last day \"N\".\n",
    "\n",
    "**Make sure your function `predict_stock_prices` does not call any other random function, except the one already included in the `simulate_asset_price` function.**"
   ]
  },
  {
   "cell_type": "code",
   "execution_count": 25,
   "metadata": {},
   "outputs": [],
   "source": [
    "#grade (enter your code in this cell - DO NOT DELETE THIS LINE) \n",
    "def predict_stock_prices(M,N,p0):\n",
    "    # M: number of numerical experiments\n",
    "    # N: numpber of days\n",
    "    # p0: initial price \n",
    "    \n",
    "    price_M = []\n",
    "    for i in range(0, M):\n",
    "        price_M.append(simulate_asset_price(N, p0))\n",
    "\n",
    "    price_M = np.array(price_M)\n",
    "    price_M = price_M.T\n",
    "    \n",
    "    # Use price to compute the following:\n",
    "    predicted_prices = price_M[N - 1, :]\n",
    "    expected_value = np.mean(predicted_prices)\n",
    "    \n",
    "    \n",
    "    return (predicted_prices, expected_value)"
   ]
  },
  {
   "cell_type": "markdown",
   "metadata": {},
   "source": [
    "After your write your function, run the code snippet below:"
   ]
  },
  {
   "cell_type": "code",
   "execution_count": 26,
   "metadata": {},
   "outputs": [],
   "source": [
    "pred_price, ev = predict_stock_prices(50,1000,400)"
   ]
  },
  {
   "cell_type": "markdown",
   "metadata": {},
   "source": [
    "Plot the histogram of the predicted price:"
   ]
  },
  {
   "cell_type": "code",
   "execution_count": 27,
   "metadata": {},
   "outputs": [
    {
     "name": "stdout",
     "output_type": "stream",
     "text": [
      "the expected value for the asset is:  382.14\n"
     ]
    },
    {
     "data": {
      "image/png": "[encoded data removed]",
      "text/plain": [
       "<Figure size 432x288 with 1 Axes>"
      ]
     },
     "metadata": {
      "needs_background": "light"
     },
     "output_type": "display_data"
    }
   ],
   "source": [
    "plt.figure()\n",
    "plt.hist(pred_price);\n",
    "plt.title('Asset price distribution at day N from M numerical experiments')\n",
    "plt.xlabel('Asset prices')\n",
    "plt.ylabel('Number of Occurrences')\n",
    "plt.xlim([0,1000])\n",
    "\n",
    "print(\"the expected value for the asset is: \", ev)"
   ]
  },
  {
   "cell_type": "markdown",
   "metadata": {},
   "source": [
    "Try to add more numerical experiments!"
   ]
  },
  {
   "cell_type": "code",
   "execution_count": 20,
   "metadata": {},
   "outputs": [
    {
     "name": "stdout",
     "output_type": "stream",
     "text": [
      "the expected value for the asset is:  402.962\n"
     ]
    },
    {
     "data": {
      "image/png": "[encoded data removed]",
      "text/plain": [
       "<Figure size 432x288 with 1 Axes>"
      ]
     },
     "metadata": {
      "needs_background": "light"
     },
     "output_type": "display_data"
    }
   ],
   "source": [
    "pred_price, ev = predict_stock_prices(500,1000,400)\n",
    "\n",
    "plt.figure()\n",
    "plt.hist(pred_price);\n",
    "plt.title('Asset price distribution at day N from M numerical experiments')\n",
    "plt.xlabel('Asset prices')\n",
    "plt.ylabel('Number of Occurrences')\n",
    "plt.xlim([0,1000])\n",
    "\n",
    "\n",
    "print(\"the expected value for the asset is: \", ev)"
   ]
  },
  {
   "cell_type": "markdown",
   "metadata": {},
   "source": [
    "There is one problem with our simple model. Our model does not incorporate any information about our specific stock other than the starting price. In order to get a more accurate model, we need to find a way incorporate the previous price of the stock. In the next example, we explore another model for stock price behavior."
   ]
  }
 ],
 "metadata": {
  "kernelspec": {
   "display_name": "Python 3 (ipykernel)",
   "language": "python",
   "name": "python3"
  },
  "language_info": {
   "codemirror_mode": {
    "name": "ipython",
    "version": 3
   },
   "file_extension": ".py",
   "mimetype": "text/x-python",
   "name": "python",
   "nbconvert_exporter": "python",
   "pygments_lexer": "ipython3",
   "version": "3.9.6"
  }
 },
 "nbformat": 4,
 "nbformat_minor": 4
}
