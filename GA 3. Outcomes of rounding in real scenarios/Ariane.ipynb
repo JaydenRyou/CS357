{
 "cells": [
  {
   "cell_type": "code",
   "execution_count": 1,
   "metadata": {},
   "outputs": [],
   "source": [
    "import numpy as np\n",
    "import matplotlib.pyplot as plt\n",
    "%matplotlib inline"
   ]
  },
  {
   "cell_type": "markdown",
   "metadata": {},
   "source": [
    "<div class=\"alert alert-info\">\n",
    "\n",
    "# Ariane 5\n",
    "    \n",
    "Another interesting case of rounding errors is with European Space Agency's Ariane 5 rocket.\n",
    "After decades of development, in 1996, the uncrewed rocket exploded less than a minute after liftoff.\n",
    "This was a result of an unexpected course correction for a turn that had not taken place. Take a look at this video!\n",
    "\n",
    "https://www.youtube.com/watch?v=gp_D8r-2hwk\n",
    "\n",
    "The system falsely logged this turn after a rounding error in the inertial reference code.\n",
    "A 64-bit floating point number representing the horizontal velocity of the rocket with respect to the platform was converted to a 16-bit signed integer, so there were 48 fewer number places.\n",
    "But that was a mistake because Ariane 5 was much faster than Ariane 4. \n",
    "This caused a nonsensical number to be interpreted by the on-board computer.\n",
    "    \n",
    "</div>"
   ]
  },
  {
   "cell_type": "markdown",
   "metadata": {},
   "source": [
    "### Launching a Rocket\n",
    "\n",
    "In this example, we are in charge of determining the appropriate parameters needed for a rocket launch. A senior scientist has explained that we need to launch our rocket a certain distance. He proposed a model to obtain the rocket accelaration $a$ by solving the quadratic polynomial:\n",
    "\n",
    "$$ c_1 a^2 + c_2 a + c_3 = 0$$\n",
    "\n",
    "and $c_1$, $c_2$ and $c_3$ are known given coefficients.\n",
    "\n",
    "Assuming your travel starts with a zero velocity and constant acceleration, you can use your knowledge from your Physics 1 class (Mechanics) to determine the distance as:\n",
    "\n",
    "$$d(t) = \\frac{1}{2} a t^2 $$"
   ]
  },
  {
   "cell_type": "markdown",
   "metadata": {},
   "source": [
    "\n",
    "Recall that we can find the roots of a quadratic polynomial using the quadratic formula:\n",
    "$$\n",
    "a = \\frac{-c_2 \\pm \\sqrt{c_2^2 - 4c_1 c_3}}{2c_1}\n",
    "$$\n"
   ]
  },
  {
   "cell_type": "markdown",
   "metadata": {},
   "source": [
    "<div class=\"alert alert-warning\">\n",
    "    \n",
    "**Create a function that will tell us how much distance our rocket will travel after a given time using the formula for the acceleration proposed above.**\n",
    "\n",
    "Assume the distance is obtained using the positive largest root of the polynomial.\n",
    "</div>"
   ]
  },
  {
   "cell_type": "code",
   "execution_count": 15,
   "metadata": {},
   "outputs": [],
   "source": [
    "#grade (enter your code in this cell - DO NOT DELETE THIS LINE) \n",
    "def distance_quadratic(time, coeffs_of_function):\n",
    "    # time - time in seconds that our rocket will fly\n",
    "    # coeffs_of_function - numpy array with coefficients c1,c2,c3\n",
    "    #\n",
    "    # computes the distance traveled by incorporating the optimal acceleration (root of polynomial)\n",
    "    # distance = 1/2 * acceleration * time^2 (assuming we start with a zero velocity.\n",
    "    # Assume that the largest root of the polynomial will find the optimal acceleration\n",
    "    #\n",
    "    # enter your code here to compute the distance\n",
    "    # return the computed distance\n",
    "    \n",
    "    c = coeffs_of_function\n",
    "    a = (-c[1] - np.sqrt(c[1]**2 - 4*c[0]*c[2]))/(2*c[0])\n",
    "    print(a)\n",
    "    distance = 1/2 * a * time**2\n",
    "    \n",
    "    return distance\n"
   ]
  },
  {
   "cell_type": "markdown",
   "metadata": {},
   "source": [
    "In the question page, we provide values for the variables `t` and `coeff`. You can use them to estimate the distance traveled using your function. Remember that your function will be tested using different values!\n",
    "\n",
    "Copy/paste here the provided values for both variables:"
   ]
  },
  {
   "cell_type": "code",
   "execution_count": 16,
   "metadata": {},
   "outputs": [],
   "source": [
    "t = 14000\n",
    "coeffs = np.array([-1.00966963e-13,  3.18359138e-01,  9.93810240e-01])"
   ]
  },
  {
   "cell_type": "code",
   "execution_count": 17,
   "metadata": {},
   "outputs": [
    {
     "name": "stdout",
     "output_type": "stream",
     "text": [
      "3153102049829.0635\n"
     ]
    },
    {
     "data": {
      "text/plain": [
       "3.090040008832482e+20"
      ]
     },
     "execution_count": 17,
     "metadata": {},
     "output_type": "execute_result"
    }
   ],
   "source": [
    "distance_quadratic(t, coeffs)"
   ]
  },
  {
   "cell_type": "markdown",
   "metadata": {},
   "source": [
    "Another scientist brings to our attention an alternative formulation of the quadratic equation, called the Citardauq formula. He says that these two are mathematically equivalent but in a floating point system, may yield different results. \n",
    "\n",
    "Citardauq formula:\n",
    "$$\n",
    "a = \\frac{2c_3}{-c_2 \\mp \\sqrt{c_2^2 - 4 c_1 c_3}}\n",
    "$$"
   ]
  },
  {
   "cell_type": "markdown",
   "metadata": {},
   "source": [
    "<div class=\"alert alert-warning\">\n",
    "\n",
    "**Discuss with your group why the two equations can yield different results?**\n",
    "\n",
    "- What are the issues that may occur given the provided coefficients?\n",
    "- What situations (choice of coefficients), if any, may lead to:\n",
    "    - overflow?\n",
    "    - underflow?\n",
    "    - cancelation?\n",
    "\n",
    "**Implement another function `distance_citardauq` (similar to `distance_quadratic`) that uses the Citardauq formula.**\n",
    "    \n",
    "</div>"
   ]
  },
  {
   "cell_type": "code",
   "execution_count": 21,
   "metadata": {},
   "outputs": [],
   "source": [
    "#grade (enter your code in this cell - DO NOT DELETE THIS LINE) \n",
    "def distance_citardauq(time, coeffs_of_function):\n",
    "    # time - time in seconds that our rocket will fly\n",
    "    # coeffs_of_function - numpy array with coefficients c1,c2,c3\n",
    "    #\n",
    "    # computes the distance traveled by incorporating the optimal acceleration using the Citardauq formula.\n",
    "    #\n",
    "    # enter your code here to compute the distance    \n",
    "    # return the computed distance\n",
    "    \n",
    "    c = coeffs_of_function\n",
    "    a = (2*c[2])/(-c[1]+np.sqrt(c[1]**2 - 4*c[0]*c[2]))\n",
    "    print(a)\n",
    "    distance = 1/2 * a * time**2\n",
    "    return distance\n",
    "\n"
   ]
  },
  {
   "cell_type": "markdown",
   "metadata": {},
   "source": [
    "Compare the results you obtained using both functions:"
   ]
  },
  {
   "cell_type": "code",
   "execution_count": 22,
   "metadata": {},
   "outputs": [
    {
     "name": "stdout",
     "output_type": "stream",
     "text": [
      "3153102049829.0635\n",
      "3.090040008832482e+20\n",
      "3153028127186.3213\n",
      "3.089967564642595e+20\n"
     ]
    }
   ],
   "source": [
    "print(distance_quadratic(t,coeffs))\n",
    "print(distance_citardauq(t, coeffs))"
   ]
  }
 ],
 "metadata": {
  "kernelspec": {
   "display_name": "Python 3 (ipykernel)",
   "language": "python",
   "name": "python3"
  },
  "language_info": {
   "codemirror_mode": {
    "name": "ipython",
    "version": 3
   },
   "file_extension": ".py",
   "mimetype": "text/x-python",
   "name": "python",
   "nbconvert_exporter": "python",
   "pygments_lexer": "ipython3",
   "version": "3.9.6"
  }
 },
 "nbformat": 4,
 "nbformat_minor": 4
}
