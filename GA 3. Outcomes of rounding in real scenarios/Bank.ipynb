{
 "cells": [
  {
   "cell_type": "code",
   "execution_count": 1,
   "metadata": {},
   "outputs": [],
   "source": [
    "import numpy as np"
   ]
  },
  {
   "cell_type": "markdown",
   "metadata": {},
   "source": [
    "<div class=\"alert alert-info\">\n",
    "    \n",
    "# Penny-shaving Scheme\n",
    "    \n",
    "Rounding errors come up in many places. One example is with currency. We express currency in the United States as dollars and cents. What happens when a transaction needs to take place that yields an amount with more than two decimal places? Should we use typical rounding rules and round it to the nearest cent? Or, should we truncate, or drop, all the remaining digits until we only have two decimal places?\n",
    "    \n",
    "\n",
    "In a penny-shaving scheme, we could use truncation to round and keep the truncated amount. For example, if the transaction had a value `$631.954`, we would truncate it to `$631.95` and keep for ourselves the `$0.004`. Such a small amount would be impercetible as a single transaction, but if we could process millions of transactions in such a way, it would quickly add up.\n",
    "\n",
    "In the early 1980s, a new stock index at the Vancouver Stock Exchange tracked a mysterious loss in value. After an investigation, it was revealed that the loss in value of the index was due to a rounding error where the calculations were done with truncation instead of rounding transactions to the nearest two decimal places. This mistake resulted in almost a 50% loss in value over 22 months. \n",
    "\n",
    "</div>"
   ]
  },
  {
   "cell_type": "markdown",
   "metadata": {},
   "source": [
    "### 1) Comparing banks with different rounding rules\n",
    "\n",
    "To demonstrate the effects of different methods of rounding, we will be tasked with choosing a bank. \n",
    "\n",
    "We are currently using `BANK1` as our primary bank.\n",
    "Recently, we have wondered whether a different bank would be better for us.\n",
    "The banks in our area all differ in how they handle transactions via rounding.\n",
    "\n",
    "<div class=\"alert alert-warning\">\n",
    "    \n",
    "`BANK1` rounds each transaction to two decimal digits using `np.round()` before adding it to our balance. After adding each transaction, the balance is also rounded in the same way transactions are rounded.\n",
    "\n",
    "`BANK2` decided that truncating each transaction to two decimal digits using `np.trunc()` before adding it to our balance would be easier for them. They also truncate the balance to two decimal digits after each transaction is added.\n",
    "\n",
    "`BANK3` handles transactions by adding them to our balance as is, but at the end of the month, rounds our balance to two decimal digits using `np.round()`.\n",
    "    \n",
    "</div>\n",
    "\n",
    "We want to investigate how different the result of these banks would be."
   ]
  },
  {
   "cell_type": "markdown",
   "metadata": {},
   "source": [
    "**Given a starting balance and list of transactions for a given month, what is the ending balance using your bank?**\n",
    "\n",
    "In the question page, we provide the values for the variables `starting_balance` and `transactions`. \n",
    "\n",
    "- `starting_balance`: gives your bank balance on the first day of a given month\n",
    "- `transactions`: 1d numpy array with all your transactions on that given month. Withdrawals have negative values and deposits have positive values.\n",
    "\n",
    "Copy/paste here the provided values for both variables:"
   ]
  },
  {
   "cell_type": "code",
   "execution_count": 3,
   "metadata": {},
   "outputs": [],
   "source": [
    "import numpy as np\n",
    "\n",
    "starting_balance = 10000.00\n",
    "transactions = np.array([-18.97, -6.51, -0.91, -17.13, -17.56, -24.44, -12.75, -10.80, -10.90, 25.61, -27.27, 11.54, -20.00, -13.31, -4.92, -15.08, -29.58, -29.98, -21.96, -8.82, -23.16, -12.51, -18.87, -3.99, -5.57, -29.52, 6.15, -19.11, -18.15, -9.81, -16.63, -3.77, -15.70, -0.84, -26.42, -10.22, -2.92, -7.11, 25.94, -23.99, -3.44, -19.77, -17.85, -7.28, -28.15, -26.06, -7.83, -12.84, -3.44, -26.64, -29.20, -6.98, -26.31, -6.19, -14.78, -8.70, -22.98, 5.21, -12.16, 4.63, -27.47, -10.91, -24.54, -24.57, -5.12, 28.92, -2.66, -3.09, -25.15, -5.69, 24.23, -10.38, -6.12, -10.68, 6.97, -0.52, -10.59, 2.46, -4.45, 14.84, -5.32, -21.06, 22.07, -0.00, -1.99, -8.61, -1.61, -23.02, -24.69, -16.21, -16.20, -5.03, -24.31, -8.04, -23.88, -3.26, -7.47, -19.43, -7.42, -23.45])"
   ]
  },
  {
   "cell_type": "markdown",
   "metadata": {},
   "source": [
    "#### BANK1:\n",
    "You have an account with `BANK1`. Complete the function below to determine your final balance at the end of the month. Use the function `bank1_computation` to compute the variable `bank1_balance`. <br><br>\n",
    "Recall that `BANK1` rounds each transaction to two decimal digits using `np.round()` before adding it to our balance. After adding each transaction, the balance is also rounded in the same way transactions are rounded.\n"
   ]
  },
  {
   "cell_type": "code",
   "execution_count": 10,
   "metadata": {},
   "outputs": [
    {
     "name": "stdout",
     "output_type": "stream",
     "text": [
      "8945.85\n"
     ]
    }
   ],
   "source": [
    "#grade (enter your code in this cell - DO NOT DELETE THIS LINE) \n",
    "def bank1_computation(starting_balance, transactions):\n",
    "    # starting_balance - scalar holding bank account balance at the beginning of the month\n",
    "    # transactions - 1D numpy array of all transactions in a month\n",
    "    # Complete the function here\n",
    "    \n",
    "    for value in transactions:\n",
    "        starting_balance += np.round(value,2)\n",
    "        starting_balance = np.round(starting_balance,2)\n",
    "    return starting_balance\n",
    "\n",
    "bank1_balance = bank1_computation(starting_balance, transactions)\n",
    "print(bank1_balance)"
   ]
  },
  {
   "cell_type": "markdown",
   "metadata": {},
   "source": [
    "#### BANK2:\n",
    "You have an account with `BANK2`. Complete the function below to determine your final balance at the end of the month. Use the function `bank2_computation` to compute the variable `bank2_balance`.\n",
    "<br><br>\n",
    "Recall that `BANK2` truncates each transaction to two decimal digits using `np.trunc()` before adding it to our balance. It also truncates the balance to two decimal digits after each transaction is added."
   ]
  },
  {
   "cell_type": "code",
   "execution_count": 13,
   "metadata": {},
   "outputs": [
    {
     "name": "stdout",
     "output_type": "stream",
     "text": [
      "8945.68\n"
     ]
    }
   ],
   "source": [
    "#grade (enter your code in this cell - DO NOT DELETE THIS LINE) \n",
    "def bank2_computation(starting_balance, transactions):\n",
    "    # starting_balance - scalar holding bank account balance at the beginning of the month\n",
    "    # transactions - 1D numpy array of all transactions in a month\n",
    "    # Complete the function here\n",
    "    \n",
    "    for value in transactions:\n",
    "        starting_balance += np.trunc(value*100)/100\n",
    "        starting_balance = np.trunc(starting_balance*100)/100\n",
    "    return starting_balance\n",
    "    \n",
    "bank2_balance = bank2_computation(starting_balance, transactions)\n",
    "print(bank2_balance)\n"
   ]
  },
  {
   "cell_type": "markdown",
   "metadata": {},
   "source": [
    "#### BANK3:\n",
    "You have an account with `BANK3`. Complete the function below to determine your final balance at the end of the month. Use the function `bank3_computation` to compute the variable `bank3_balance`.\n",
    "<br><br>\n",
    "\n",
    "Recall that `BANK3` handles transactions by adding them to our balance as is, but at the end of the month, rounds our balance to two decimal digits using `np.round()`.\n"
   ]
  },
  {
   "cell_type": "code",
   "execution_count": 14,
   "metadata": {},
   "outputs": [
    {
     "name": "stdout",
     "output_type": "stream",
     "text": [
      "8945.85\n"
     ]
    }
   ],
   "source": [
    "#grade (enter your code in this cell - DO NOT DELETE THIS LINE) \n",
    "def bank3_computation(starting_balance, transactions):\n",
    "    # starting_balance - scalar holding bank account balance at the beginning of the month\n",
    "    # transactions - 1D numpy array of all transactions in a month\n",
    "    # Complete the function here\n",
    "    \n",
    "    \n",
    "    for value in transactions:\n",
    "        starting_balance += value\n",
    "\n",
    "    starting_balance = np.round(starting_balance,2)\n",
    "    \n",
    "    return starting_balance\n",
    "\n",
    "bank3_balance = bank3_computation(starting_balance, transactions)\n",
    "print(bank3_balance)\n"
   ]
  },
  {
   "cell_type": "markdown",
   "metadata": {},
   "source": [
    "### 2) Select the bank:"
   ]
  },
  {
   "cell_type": "markdown",
   "metadata": {},
   "source": [
    "Write the function `select_bank` that return a tuple `(your_bank_choice, your_final_balance)` where `your_bank_choice` is the integer that describes which bank gives the larger final balance, stored in `your_final_balance`.\n",
    "\n",
    "`your_bank_choice = 1`: BANK1\n",
    "\n",
    "`your_bank_choice = 2`: BANK2\n",
    "\n",
    "`your_bank_choice = 3`: BANK3\n",
    "\n",
    "If different banks give the same larger final balance, you can return the integer value corresponding to any of them."
   ]
  },
  {
   "cell_type": "code",
   "execution_count": 19,
   "metadata": {},
   "outputs": [],
   "source": [
    "#grade (enter your code in this cell - DO NOT DELETE THIS LINE) \n",
    "def select_bank(b, t):\n",
    "    # b: this is the starting balance\n",
    "    # t: this is the 1d numpy array with the monthly transactions\n",
    "    \n",
    "    # Complete your function here\n",
    "    import numpy as np\n",
    "    \n",
    "    bank1 = bank1_computation(b,t)\n",
    "    bank2 = bank2_computation(b,t)\n",
    "    bank3 = bank3_computation(b,t)\n",
    "    banks = np.array([bank1,bank2,bank3])\n",
    "    print(banks)\n",
    "    your_bank_choice = np.argmax(banks) + 1\n",
    "    your_final_balance = banks[your_bank_choice - 1]\n",
    "    \n",
    "    return (your_bank_choice, your_final_balance)\n",
    "    \n"
   ]
  },
  {
   "cell_type": "markdown",
   "metadata": {},
   "source": [
    "You can check your function using the given variable `starting_balance` and `transactions`. However, do not hard-code your function. We will check it using different values for `b` and `t`."
   ]
  },
  {
   "cell_type": "code",
   "execution_count": 20,
   "metadata": {},
   "outputs": [
    {
     "name": "stdout",
     "output_type": "stream",
     "text": [
      "[8945.85 8945.68 8945.85]\n"
     ]
    },
    {
     "data": {
      "text/plain": [
       "(1, 8945.85)"
      ]
     },
     "execution_count": 20,
     "metadata": {},
     "output_type": "execute_result"
    }
   ],
   "source": [
    "select_bank(starting_balance, transactions)"
   ]
  },
  {
   "cell_type": "code",
   "execution_count": null,
   "metadata": {},
   "outputs": [],
   "source": []
  }
 ],
 "metadata": {
  "kernelspec": {
   "display_name": "Python 3 (ipykernel)",
   "language": "python",
   "name": "python3"
  },
  "language_info": {
   "codemirror_mode": {
    "name": "ipython",
    "version": 3
   },
   "file_extension": ".py",
   "mimetype": "text/x-python",
   "name": "python",
   "nbconvert_exporter": "python",
   "pygments_lexer": "ipython3",
   "version": "3.9.6"
  }
 },
 "nbformat": 4,
 "nbformat_minor": 4
}
