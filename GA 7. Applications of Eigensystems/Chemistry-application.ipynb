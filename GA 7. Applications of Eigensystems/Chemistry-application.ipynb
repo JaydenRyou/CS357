{
 "cells": [
  {
   "cell_type": "code",
   "execution_count": null,
   "metadata": {},
   "outputs": [],
   "source": [
    "%matplotlib inline\n",
    "import matplotlib.pyplot as plt\n",
    "import numpy as np\n",
    "import numpy.linalg as la\n",
    "import scipy.linalg as sla"
   ]
  },
  {
   "cell_type": "code",
   "execution_count": null,
   "metadata": {},
   "outputs": [],
   "source": [
    "from helper_functions import *"
   ]
  },
  {
   "cell_type": "markdown",
   "metadata": {},
   "source": [
    "<div class=\"alert alert-info\">\n",
    "    \n",
    "<h1>Example 2: Quantum Chemistry</h1>\n",
    "    \n",
    "\n",
    "In this example, we will be solving a generalized eigenvalue problem which has the form\n",
    "$$\n",
    "{\\bf A x} = \\lambda {\\bf B x},\n",
    "$$\n",
    "where ${\\bf A}$ and ${\\bf B}$ are matrices.\n",
    "\n",
    "\n",
    "This generalized eigenvalue problem arises in computational chemistry, when modeling the electron and nucleus interactions of molecules. The electronic structure of a molecule is governed by Schrödinger's equation, which can be approximated using the Hartree–Fock method:\n",
    "\n",
    "$$\n",
    "{\\bf F \\,C}_i = \\lambda_i \\,{\\bf S\\, C}_i \\quad \\text{(Roothaan's equations)}\n",
    "$$\n",
    "\n",
    "where ${\\bf F}$ is the Fock matrix including the electron interactions,\n",
    "${\\bf C}$ is a matrix with the molecular coefficients for the atomic orbitals, $\\lambda_i$ are the molecular energies for each atomic orbital, and ${\\bf S}$ is a matrix with the basis functions used to discretize the problem.\n",
    "    \n",
    "Note that the eigenvectors are the columns ${\\bf C}_i$ corresponding to the eigenvalues $\\lambda_i$.\n",
    "    \n",
    "[Wikipedia reference](https://en.wikipedia.org/wiki/Roothaan_equations#:~:text=The%20Roothaan%20equations%20are%20a,%2C%20respectively%2C%20are%20doubly%20occupied)\n",
    "    \n",
    "</div>"
   ]
  },
  {
   "cell_type": "markdown",
   "metadata": {},
   "source": [
    "<div class=\"alert alert-warning\">    \n",
    "    \n",
    "#### One small issue...\n",
    "\n",
    "\n",
    "The Fock matrix ${\\bf F}$ depends on the ${\\bf C}$ matrix! We have a **\"chicken or the egg\" paradox**, because we need to have  ${\\bf F}$ to obtain ${\\bf C}$, but ${\\bf C}$ is the solution of the generalized eigenvalue problem. \n",
    "    \n",
    "You just found the first **NONLINEAR** example introduced in this class! To solve nonlinear problems, we will use **iterative methods**.\n",
    "\n",
    "We will start with an initial guess:\n",
    "\n",
    "$${\\bf C}^{(0)} $$\n",
    "\n",
    "and then use the iterative scheme (Roothaan's equations):\n",
    "\n",
    "\n",
    "$$\n",
    "{\\bf F}({\\bf C}^{(n)}) \\, {\\bf C}^{(n+1)}_i = \\lambda^{(n+1)}_i \\,{\\bf S\\, C}^{(n+1)}_i \n",
    "$$\n",
    "</div>\n",
    "\n",
    "where we provide you with a function to evaluate the Fock matrix. \n",
    "\n",
    "```python\n",
    "F = compute_Fock(C)\n",
    "```\n",
    "\n",
    "We will assume we are solving a problem where the matrices have shape `(7,7)` which corresponds to the H2O molecule. The matrix ${\\bf S}$ is given below:"
   ]
  },
  {
   "cell_type": "code",
   "execution_count": null,
   "metadata": {},
   "outputs": [],
   "source": [
    "# Load S matrix from file\n",
    "n = 7\n",
    "S =  np.load('S.npy')"
   ]
  },
  {
   "cell_type": "markdown",
   "metadata": {},
   "source": [
    "For the first step of your iterative process, obtain the Fock matrix assuming ${\\bf C}^{(0)} $ is a zero matrix. Store your result in the variable `F`"
   ]
  },
  {
   "cell_type": "code",
   "execution_count": null,
   "metadata": {},
   "outputs": [],
   "source": [
    "#grade (enter your code in this cell - DO NOT DELETE THIS LINE) \n",
    "C=np.zeros((7,7))\n",
    "F=compute_Fock(C)\n",
    "print(F.shape)"
   ]
  },
  {
   "cell_type": "markdown",
   "metadata": {},
   "source": [
    "We will first use the function [scipy.linalg.eigh](https://docs.scipy.org/doc/scipy/reference/generated/scipy.linalg.eigh.html#scipy.linalg.eigh) to obtain the solution of the generalized eigenvalue problem for the first time step\n",
    "\n",
    "$$\n",
    "{\\bf F}({\\bf C}^{(0)}) \\, {\\bf C}^{(1)}_i = \\lambda^{(1)}_i \\,{\\bf S\\, C}^{(1)}_i\n",
    "$$\n",
    "\n",
    "Store the eigenvalues $\\lambda^{(1)}_i$ in the 1d numpy array `lambn` and the eigenvectors ${\\bf C}^{(1)}_i$ in the 2d numpy array `Cn`.\n",
    "\n",
    "Note the grader is just checking the shape and type of `lambn` and `Cn`, but we will check the values in later tests."
   ]
  },
  {
   "cell_type": "code",
   "execution_count": null,
   "metadata": {},
   "outputs": [],
   "source": [
    "#grade (enter your code in this cell - DO NOT DELETE THIS LINE) \n",
    "\n",
    "lambn, Cn = sla.eigh(F, S)"
   ]
  },
  {
   "cell_type": "markdown",
   "metadata": {},
   "source": [
    "Check the values of the eigenvalues. Note that they are given in ascending order: "
   ]
  },
  {
   "cell_type": "code",
   "execution_count": null,
   "metadata": {},
   "outputs": [],
   "source": [
    "lambn"
   ]
  },
  {
   "cell_type": "markdown",
   "metadata": {},
   "source": [
    "Compute the 2-norm of the eigenvalue array `lambn`. We will use this in order to check convergence of our iterative method. Store this as `ln`."
   ]
  },
  {
   "cell_type": "code",
   "execution_count": null,
   "metadata": {},
   "outputs": [],
   "source": [
    "#grade (enter your code in this cell - DO NOT DELETE THIS LINE) \n",
    "ln=la.norm(lambn,2)"
   ]
  },
  {
   "cell_type": "markdown",
   "metadata": {},
   "source": [
    "Write a code snippet that implement the iterative method proposed above:\n",
    "\n",
    "- Start from initial guess ${\\bf C^{(0)} = 0}$\n",
    "\n",
    "- Perform the computation below until convergence:\n",
    "\n",
    "    - Compute the Fock matrix\n",
    "    - Solve the generalized eigenvalue problem\n",
    "    - Compute the norm of the eigenvalue array\n",
    "    - Take the difference between the norm of two consecutive iterations. If the absolute value of this difference is below the tolerance, stop the iterations\n",
    "    \n",
    "- Use `tol = 1e-6`\n",
    "\n",
    "**Define:**\n",
    "At the end of your iterative method, the code snippet defined in the `#grade` cell below should define:\n",
    "\n",
    "- The converged matrix eigenvector array, in this example the ${\\bf C}$ matrix, stored in the variable `C_converged`\n",
    "\n",
    "- The converged eigenvalue array stored in the variable `lambda_converged`\n",
    "    "
   ]
  },
  {
   "cell_type": "code",
   "execution_count": null,
   "metadata": {},
   "outputs": [],
   "source": [
    "#grade (enter your code in this cell - DO NOT DELETE THIS LINE) \n",
    "tol = 1e-6\n",
    "C = np.zeros((n,n))\n",
    "prev_ln = 0\n",
    "curr_Cn=C\n",
    "while True:\n",
    "    Fn = compute_Fock(curr_Cn)\n",
    "    curr_lambn, curr_Cn = sla.eigh(Fn, S)\n",
    "    curr_ln=la.norm(curr_lambn,2)\n",
    "    if np.abs(prev_ln - curr_ln) < tol:\n",
    "        break\n",
    "    prev_ln = curr_ln\n",
    "    \n",
    "C_converged = curr_Cn\n",
    "lambda_converged = curr_lambn\n"
   ]
  },
  {
   "cell_type": "code",
   "execution_count": null,
   "metadata": {},
   "outputs": [
    {
     "data": {
      "text/plain": [
       "array([-20.26205131,  -1.26227562,  -0.56937852,  -0.48077939,\n",
       "        -0.39749241,   0.58252526,   0.65807393])"
      ]
     },
     "execution_count": 55,
     "metadata": {},
     "output_type": "execute_result"
    }
   ],
   "source": [
    "lambda_converged"
   ]
  },
  {
   "cell_type": "code",
   "execution_count": null,
   "metadata": {},
   "outputs": [],
   "source": [
    "C_converged\n",
    "Fn = compute_Fock(C_converged)\n",
    "ltt, Ctt = sla.eigh(Fn,S)"
   ]
  },
  {
   "cell_type": "markdown",
   "metadata": {},
   "source": [
    "<div class=\"alert alert-warning\">   \n",
    "\n",
    "<b> An alternative solution </b>\n",
    "\n",
    "<br>\n",
    "Suppose you only have available a function that solves the eigenvalue problem\n",
    "\n",
    "$$\n",
    "{\\bf A x} = \\lambda {\\bf x},\n",
    "$$\n",
    "\n",
    "Transform the original generalized eigenvalue problem \n",
    "\n",
    "\n",
    "$$\n",
    "{\\bf F}({\\bf C}^{(n)}) \\, {\\bf C}^{(n+1)}_i = \\lambda^{(n+1)}_i \\,{\\bf S\\, C}^{(n+1)}_i \n",
    "$$\n",
    "\n",
    "\n",
    "such that you can solve it using [numpy.linalg.eigh](https://numpy.org/doc/stable/reference/generated/numpy.linalg.eigh.html#numpy.linalg.eigh)\n",
    "    \n",
    "</div>"
   ]
  },
  {
   "cell_type": "markdown",
   "metadata": {},
   "source": [
    "We can first diagonalize the matrix ${\\bf S}$, such that we write ${\\bf S} = {\\bf U} {\\bf D}{\\bf U}^T$. Compute the matrices ${\\bf U}$ and ${\\bf D}$ and store them in the variables `U` and `D` respectively. Both variables should be 2d numpy arrays."
   ]
  },
  {
   "cell_type": "code",
   "execution_count": null,
   "metadata": {},
   "outputs": [],
   "source": [
    "#grade (enter your code in this cell - DO NOT DELETE THIS LINE) \n"
   ]
  },
  {
   "cell_type": "markdown",
   "metadata": {},
   "source": [
    "Note the grader is just checking the shape and type of `U` and `D`. If your implementation is correct, the expression below should evaluate as `True`"
   ]
  },
  {
   "cell_type": "code",
   "execution_count": null,
   "metadata": {},
   "outputs": [],
   "source": [
    "np.allclose(U @ D @U.T , S)"
   ]
  },
  {
   "cell_type": "markdown",
   "metadata": {},
   "source": [
    "Suppose we have a orthogonal matrix ${\\bf X}$ such that ${\\bf X}{\\bf X}^T = {\\bf X}^T{\\bf X} = {\\bf I}$. We can re-write the Roothaan's equations as:\n",
    "\n",
    "\n",
    "$$\n",
    "\\color{red}{{\\bf X}^T}{\\bf F}({\\bf C}^{(n)}) \\,\\color{blue}{{\\bf X}{\\bf X}^T}\\, {\\bf C}^{(n+1)}_i = \\lambda^{(n+1)}_i \\,\\color{red}{{\\bf X}^T}\\,{\\bf S}\\,\\color{blue}{{\\bf X}{\\bf X}^T}\\,{ \\bf C}^{(n+1)}_i \n",
    "$$\n",
    "\n",
    "If we define the new variables:\n",
    "\n",
    "$${\\bf\\bar{c}}_i = {\\bf X}^T\\, {\\bf C}^{(n+1)}_i $$\n",
    "\n",
    "$${\\bf\\bar{F}}_i = {\\bf X}^T{\\bf F}({\\bf C}^{(n)}) \\,{\\bf X}$$\n",
    "\n",
    "$${\\bf\\bar{S}}_i = {\\bf X}^T{\\bf S} \\,{\\bf X}$$\n",
    "\n",
    "the Roothaan's equations become:\n",
    "\n",
    "$$ {\\bf\\bar{F}}_i {\\bf\\bar{c}}_i = \\lambda^{(n+1)}_i {\\bf\\bar{S}}_i {\\bf\\bar{c}}_i $$\n",
    "\n",
    "If we create the matrix ${\\bf X}$ such that:\n",
    "\n",
    "$${\\bf X} = {\\bf U}{\\bf D}^{-1/2}{\\bf U}^T $$\n",
    "\n",
    "where ${\\bf U}$ and ${\\bf D}$ come from the diagonalization of ${\\bf S}$, one can show that \n",
    "\n",
    "$${\\bf\\bar{S}}_i = {\\bf X}^T{\\bf S} \\,{\\bf X} =  {\\bf I}$$\n",
    "\n",
    "<div class=\"alert alert-warning\">\n",
    "\n",
    "finaly resulting in the alternative iterative scheme:\n",
    "\n",
    "$$ {\\bf\\bar{F}}_i {\\bf\\bar{c}}_i = \\lambda^{(n+1)}_i  {\\bf\\bar{c}}_i $$\n",
    "    \n",
    "</div>"
   ]
  },
  {
   "cell_type": "markdown",
   "metadata": {},
   "source": [
    "Write the function `solve_roothaan` that implements the above iterative method, which can be summarized as:\n",
    "\n",
    "- Compute diagonalization of ${\\bf S}$ (i.e.,obtain the matrices ${\\bf U}$ and ${\\bf D}$)\n",
    "\n",
    "- Compute the matrix ${\\bf X} =  {\\bf U}{\\bf D}^{-1/2}{\\bf U}^T $\n",
    "\n",
    "- Start from initial guess ${\\bf C^{(0)} = 0}$\n",
    "\n",
    "- Perform the computation below until convergence:\n",
    "\n",
    "    - Compute the Fock matrix\n",
    "    - Compute the modified Fock matrix ${\\bf\\bar{F}} = {\\bf X}^T{\\bf F} \\,{\\bf X}$\n",
    "    - Solve the eigenvalue problem above using `numpy.linalg.eigh` to obtain the eigenpair $(\\lambda^{(n+1)}_i, {\\bf\\bar{c}}_i)$\n",
    "    - Evaluate the matrix  ${\\bf C}^{(n+1)}$. Make sure you take into account that the matrix ${\\bf X}$ is orthogonal, and hence ${\\bf X}^{-1} = {\\bf X}^T$.\n",
    "    - Compute the norm of the eigenvalue array\n",
    "    - Take the difference between the norm of two consecutive iterations. If the absolute value of this difference is below the tolerance, stop the iterations\n",
    "\n",
    "- At the end of your iterative method, the function should return:\n",
    "\n",
    "    - The converged eigenvectors, here the matrix ${\\bf C}^{(n+1)}$, stored in the variable `C_converged`\n",
    "\n",
    "    - The converged eigenvalue array stored in the variable `lambda_converged`\n",
    "\n",
    "If you run your function for the matrix ${\\bf S}$ provided in the first approach, you should get the same results. However, make sure you are not hard-coding this information, since the grading function can use different matrices and tolerance values.\n",
    "    "
   ]
  },
  {
   "cell_type": "code",
   "execution_count": null,
   "metadata": {},
   "outputs": [],
   "source": [
    "#grade (enter your code in this cell - DO NOT DELETE THIS LINE) \n",
    "def solve_roothaan(S,tol):\n",
    "    \n",
    "    C = np.zeros((n,n))\n",
    "    \n",
    "    C_converged = ...\n",
    "    lambda_converged = ...\n",
    "    \n",
    "\n",
    "    return C_converged, lambda_converged\n",
    "\n",
    "\n"
   ]
  },
  {
   "cell_type": "code",
   "execution_count": null,
   "metadata": {},
   "outputs": [],
   "source": [
    "# Call the function and check if you obtained the same results\n",
    "C_converged_2, lambda_converged_2 = solve_roothaan(S,1e-6)"
   ]
  },
  {
   "cell_type": "code",
   "execution_count": null,
   "metadata": {},
   "outputs": [],
   "source": [
    "C_converged_2, lambda_converged_2"
   ]
  },
  {
   "cell_type": "code",
   "execution_count": null,
   "metadata": {},
   "outputs": [],
   "source": []
  },
  {
   "cell_type": "code",
   "execution_count": null,
   "metadata": {},
   "outputs": [],
   "source": [
    "%matplotlib inline\n",
    "import matplotlib.pyplot as plt\n",
    "import numpy as np\n",
    "import numpy.linalg as la\n",
    "import scipy.linalg as sla"
   ]
  },
  {
   "cell_type": "code",
   "execution_count": null,
   "metadata": {},
   "outputs": [],
   "source": [
    "from helper_functions import *"
   ]
  },
  {
   "cell_type": "markdown",
   "metadata": {},
   "source": [
    "<div class=\"alert alert-info\">\n",
    "    \n",
    "<h1>Example 2: Quantum Chemistry</h1>\n",
    "    \n",
    "\n",
    "In this example, we will be solving a generalized eigenvalue problem which has the form\n",
    "$$\n",
    "{\\bf A x} = \\lambda {\\bf B x},\n",
    "$$\n",
    "where ${\\bf A}$ and ${\\bf B}$ are matrices.\n",
    "\n",
    "\n",
    "This generalized eigenvalue problem arises in computational chemistry, when modeling the electron and nucleus interactions of molecules. The electronic structure of a molecule is governed by Schrödinger's equation, which can be approximated using the Hartree–Fock method:\n",
    "\n",
    "$$\n",
    "{\\bf F \\,C}_i = \\lambda_i \\,{\\bf S\\, C}_i \\quad \\text{(Roothaan's equations)}\n",
    "$$\n",
    "\n",
    "where ${\\bf F}$ is the Fock matrix including the electron interactions,\n",
    "${\\bf C}$ is a matrix with the molecular coefficients for the atomic orbitals, $\\lambda_i$ are the molecular energies for each atomic orbital, and ${\\bf S}$ is a matrix with the basis functions used to discretize the problem.\n",
    "    \n",
    "Note that the eigenvectors are the columns ${\\bf C}_i$ corresponding to the eigenvalues $\\lambda_i$.\n",
    "    \n",
    "[Wikipedia reference](https://en.wikipedia.org/wiki/Roothaan_equations#:~:text=The%20Roothaan%20equations%20are%20a,%2C%20respectively%2C%20are%20doubly%20occupied)\n",
    "    \n",
    "</div>"
   ]
  },
  {
   "cell_type": "markdown",
   "metadata": {},
   "source": [
    "<div class=\"alert alert-warning\">    \n",
    "    \n",
    "#### One small issue...\n",
    "\n",
    "\n",
    "The Fock matrix ${\\bf F}$ depends on the ${\\bf C}$ matrix! We have a **\"chicken or the egg\" paradox**, because we need to have  ${\\bf F}$ to obtain ${\\bf C}$, but ${\\bf C}$ is the solution of the generalized eigenvalue problem. \n",
    "    \n",
    "You just found the first **NONLINEAR** example introduced in this class! To solve nonlinear problems, we will use **iterative methods**.\n",
    "\n",
    "We will start with an initial guess:\n",
    "\n",
    "$${\\bf C}^{(0)} $$\n",
    "\n",
    "and then use the iterative scheme (Roothaan's equations):\n",
    "\n",
    "\n",
    "$$\n",
    "{\\bf F}({\\bf C}^{(n)}) \\, {\\bf C}^{(n+1)}_i = \\lambda^{(n+1)}_i \\,{\\bf S\\, C}^{(n+1)}_i \n",
    "$$\n",
    "</div>\n",
    "\n",
    "where we provide you with a function to evaluate the Fock matrix. \n",
    "\n",
    "```python\n",
    "F = compute_Fock(C)\n",
    "```\n",
    "\n",
    "We will assume we are solving a problem where the matrices have shape `(7,7)` which corresponds to the H2O molecule. The matrix ${\\bf S}$ is given below:"
   ]
  },
  {
   "cell_type": "code",
   "execution_count": null,
   "metadata": {},
   "outputs": [],
   "source": [
    "# Load S matrix from file\n",
    "n = 7\n",
    "S =  np.load('S.npy')"
   ]
  },
  {
   "cell_type": "markdown",
   "metadata": {},
   "source": [
    "For the first step of your iterative process, obtain the Fock matrix assuming ${\\bf C}^{(0)} $ is a zero matrix. Store your result in the variable `F`"
   ]
  },
  {
   "cell_type": "code",
   "execution_count": null,
   "metadata": {},
   "outputs": [],
   "source": [
    "#grade (enter your code in this cell - DO NOT DELETE THIS LINE) \n",
    "C=np.zeros((7,7))\n",
    "F=compute_Fock(C)\n",
    "print(F.shape)"
   ]
  },
  {
   "cell_type": "markdown",
   "metadata": {},
   "source": [
    "We will first use the function [scipy.linalg.eigh](https://docs.scipy.org/doc/scipy/reference/generated/scipy.linalg.eigh.html#scipy.linalg.eigh) to obtain the solution of the generalized eigenvalue problem for the first time step\n",
    "\n",
    "$$\n",
    "{\\bf F}({\\bf C}^{(0)}) \\, {\\bf C}^{(1)}_i = \\lambda^{(1)}_i \\,{\\bf S\\, C}^{(1)}_i\n",
    "$$\n",
    "\n",
    "Store the eigenvalues $\\lambda^{(1)}_i$ in the 1d numpy array `lambn` and the eigenvectors ${\\bf C}^{(1)}_i$ in the 2d numpy array `Cn`.\n",
    "\n",
    "Note the grader is just checking the shape and type of `lambn` and `Cn`, but we will check the values in later tests."
   ]
  },
  {
   "cell_type": "code",
   "execution_count": null,
   "metadata": {},
   "outputs": [],
   "source": [
    "#grade (enter your code in this cell - DO NOT DELETE THIS LINE) \n",
    "\n",
    "lambn, Cn = sla.eigh(F, S)"
   ]
  },
  {
   "cell_type": "markdown",
   "metadata": {},
   "source": [
    "Check the values of the eigenvalues. Note that they are given in ascending order: "
   ]
  },
  {
   "cell_type": "code",
   "execution_count": null,
   "metadata": {},
   "outputs": [],
   "source": [
    "lambn"
   ]
  },
  {
   "cell_type": "markdown",
   "metadata": {},
   "source": [
    "Compute the 2-norm of the eigenvalue array `lambn`. We will use this in order to check convergence of our iterative method. Store this as `ln`."
   ]
  },
  {
   "cell_type": "code",
   "execution_count": null,
   "metadata": {},
   "outputs": [],
   "source": [
    "#grade (enter your code in this cell - DO NOT DELETE THIS LINE) \n",
    "ln=la.norm(lambn,2)"
   ]
  },
  {
   "cell_type": "markdown",
   "metadata": {},
   "source": [
    "Write a code snippet that implement the iterative method proposed above:\n",
    "\n",
    "- Start from initial guess ${\\bf C^{(0)} = 0}$\n",
    "\n",
    "- Perform the computation below until convergence:\n",
    "\n",
    "    - Compute the Fock matrix\n",
    "    - Solve the generalized eigenvalue problem\n",
    "    - Compute the norm of the eigenvalue array\n",
    "    - Take the difference between the norm of two consecutive iterations. If the absolute value of this difference is below the tolerance, stop the iterations\n",
    "    \n",
    "- Use `tol = 1e-6`\n",
    "\n",
    "**Define:**\n",
    "At the end of your iterative method, the code snippet defined in the `#grade` cell below should define:\n",
    "\n",
    "- The converged matrix eigenvector array, in this example the ${\\bf C}$ matrix, stored in the variable `C_converged`\n",
    "\n",
    "- The converged eigenvalue array stored in the variable `lambda_converged`\n",
    "    "
   ]
  },
  {
   "cell_type": "code",
   "execution_count": 54,
   "metadata": {},
   "outputs": [],
   "source": [
    "#grade (enter your code in this cell - DO NOT DELETE THIS LINE) \n",
    "tol = 1e-6\n",
    "C = np.zeros((n,n))\n",
    "prev_ln = 0\n",
    "curr_Cn=C\n",
    "while True:\n",
    "    Fn = compute_Fock(curr_Cn)\n",
    "    curr_lambn, curr_Cn = sla.eigh(Fn, S)\n",
    "    curr_ln=la.norm(curr_lambn,2)\n",
    "    if np.abs(prev_ln - curr_ln) < tol:\n",
    "        break\n",
    "    prev_ln = curr_ln\n",
    "    \n",
    "C_converged = curr_Cn\n",
    "lambda_converged = curr_lambn\n"
   ]
  },
  {
   "cell_type": "code",
   "execution_count": 55,
   "metadata": {},
   "outputs": [
    {
     "data": {
      "text/plain": [
       "array([-20.26205131,  -1.26227562,  -0.56937852,  -0.48077939,\n",
       "        -0.39749241,   0.58252526,   0.65807393])"
      ]
     },
     "execution_count": 55,
     "metadata": {},
     "output_type": "execute_result"
    }
   ],
   "source": [
    "lambda_converged"
   ]
  },
  {
   "cell_type": "code",
   "execution_count": 43,
   "metadata": {},
   "outputs": [],
   "source": [
    "C_converged\n",
    "Fn = compute_Fock(C_converged)\n",
    "ltt, Ctt = sla.eigh(Fn,S)"
   ]
  },
  {
   "cell_type": "markdown",
   "metadata": {},
   "source": [
    "<div class=\"alert alert-warning\">   \n",
    "\n",
    "<b> An alternative solution </b>\n",
    "\n",
    "<br>\n",
    "Suppose you only have available a function that solves the eigenvalue problem\n",
    "\n",
    "$$\n",
    "{\\bf A x} = \\lambda {\\bf x},\n",
    "$$\n",
    "\n",
    "Transform the original generalized eigenvalue problem \n",
    "\n",
    "\n",
    "$$\n",
    "{\\bf F}({\\bf C}^{(n)}) \\, {\\bf C}^{(n+1)}_i = \\lambda^{(n+1)}_i \\,{\\bf S\\, C}^{(n+1)}_i \n",
    "$$\n",
    "\n",
    "\n",
    "such that you can solve it using [numpy.linalg.eigh](https://numpy.org/doc/stable/reference/generated/numpy.linalg.eigh.html#numpy.linalg.eigh)\n",
    "    \n",
    "</div>"
   ]
  },
  {
   "cell_type": "markdown",
   "metadata": {},
   "source": [
    "We can first diagonalize the matrix ${\\bf S}$, such that we write ${\\bf S} = {\\bf U} {\\bf D}{\\bf U}^T$. Compute the matrices ${\\bf U}$ and ${\\bf D}$ and store them in the variables `U` and `D` respectively. Both variables should be 2d numpy arrays."
   ]
  },
  {
   "cell_type": "code",
   "execution_count": null,
   "metadata": {},
   "outputs": [],
   "source": [
    "#grade (enter your code in this cell - DO NOT DELETE THIS LINE) \n"
   ]
  },
  {
   "cell_type": "markdown",
   "metadata": {},
   "source": [
    "Note the grader is just checking the shape and type of `U` and `D`. If your implementation is correct, the expression below should evaluate as `True`"
   ]
  },
  {
   "cell_type": "code",
   "execution_count": null,
   "metadata": {},
   "outputs": [],
   "source": [
    "np.allclose(U @ D @U.T , S)"
   ]
  },
  {
   "cell_type": "markdown",
   "metadata": {},
   "source": [
    "Suppose we have a orthogonal matrix ${\\bf X}$ such that ${\\bf X}{\\bf X}^T = {\\bf X}^T{\\bf X} = {\\bf I}$. We can re-write the Roothaan's equations as:\n",
    "\n",
    "\n",
    "$$\n",
    "\\color{red}{{\\bf X}^T}{\\bf F}({\\bf C}^{(n)}) \\,\\color{blue}{{\\bf X}{\\bf X}^T}\\, {\\bf C}^{(n+1)}_i = \\lambda^{(n+1)}_i \\,\\color{red}{{\\bf X}^T}\\,{\\bf S}\\,\\color{blue}{{\\bf X}{\\bf X}^T}\\,{ \\bf C}^{(n+1)}_i \n",
    "$$\n",
    "\n",
    "If we define the new variables:\n",
    "\n",
    "$${\\bf\\bar{c}}_i = {\\bf X}^T\\, {\\bf C}^{(n+1)}_i $$\n",
    "\n",
    "$${\\bf\\bar{F}}_i = {\\bf X}^T{\\bf F}({\\bf C}^{(n)}) \\,{\\bf X}$$\n",
    "\n",
    "$${\\bf\\bar{S}}_i = {\\bf X}^T{\\bf S} \\,{\\bf X}$$\n",
    "\n",
    "the Roothaan's equations become:\n",
    "\n",
    "$$ {\\bf\\bar{F}}_i {\\bf\\bar{c}}_i = \\lambda^{(n+1)}_i {\\bf\\bar{S}}_i {\\bf\\bar{c}}_i $$\n",
    "\n",
    "If we create the matrix ${\\bf X}$ such that:\n",
    "\n",
    "$${\\bf X} = {\\bf U}{\\bf D}^{-1/2}{\\bf U}^T $$\n",
    "\n",
    "where ${\\bf U}$ and ${\\bf D}$ come from the diagonalization of ${\\bf S}$, one can show that \n",
    "\n",
    "$${\\bf\\bar{S}}_i = {\\bf X}^T{\\bf S} \\,{\\bf X} =  {\\bf I}$$\n",
    "\n",
    "<div class=\"alert alert-warning\">\n",
    "\n",
    "finaly resulting in the alternative iterative scheme:\n",
    "\n",
    "$$ {\\bf\\bar{F}}_i {\\bf\\bar{c}}_i = \\lambda^{(n+1)}_i  {\\bf\\bar{c}}_i $$\n",
    "    \n",
    "</div>"
   ]
  },
  {
   "cell_type": "markdown",
   "metadata": {},
   "source": [
    "Write the function `solve_roothaan` that implements the above iterative method, which can be summarized as:\n",
    "\n",
    "- Compute diagonalization of ${\\bf S}$ (i.e.,obtain the matrices ${\\bf U}$ and ${\\bf D}$)\n",
    "\n",
    "- Compute the matrix ${\\bf X} =  {\\bf U}{\\bf D}^{-1/2}{\\bf U}^T $\n",
    "\n",
    "- Start from initial guess ${\\bf C^{(0)} = 0}$\n",
    "\n",
    "- Perform the computation below until convergence:\n",
    "\n",
    "    - Compute the Fock matrix\n",
    "    - Compute the modified Fock matrix ${\\bf\\bar{F}} = {\\bf X}^T{\\bf F} \\,{\\bf X}$\n",
    "    - Solve the eigenvalue problem above using `numpy.linalg.eigh` to obtain the eigenpair $(\\lambda^{(n+1)}_i, {\\bf\\bar{c}}_i)$\n",
    "    - Evaluate the matrix  ${\\bf C}^{(n+1)}$. Make sure you take into account that the matrix ${\\bf X}$ is orthogonal, and hence ${\\bf X}^{-1} = {\\bf X}^T$.\n",
    "    - Compute the norm of the eigenvalue array\n",
    "    - Take the difference between the norm of two consecutive iterations. If the absolute value of this difference is below the tolerance, stop the iterations\n",
    "\n",
    "- At the end of your iterative method, the function should return:\n",
    "\n",
    "    - The converged eigenvectors, here the matrix ${\\bf C}^{(n+1)}$, stored in the variable `C_converged`\n",
    "\n",
    "    - The converged eigenvalue array stored in the variable `lambda_converged`\n",
    "\n",
    "If you run your function for the matrix ${\\bf S}$ provided in the first approach, you should get the same results. However, make sure you are not hard-coding this information, since the grading function can use different matrices and tolerance values.\n",
    "    "
   ]
  },
  {
   "cell_type": "code",
   "execution_count": null,
   "metadata": {},
   "outputs": [],
   "source": [
    "#grade (enter your code in this cell - DO NOT DELETE THIS LINE) \n",
    "def solve_roothaan(S,tol):\n",
    "    \n",
    "    C = np.zeros((n,n))\n",
    "    \n",
    "    C_converged = ...\n",
    "    lambda_converged = ...\n",
    "    \n",
    "\n",
    "    return C_converged, lambda_converged\n",
    "\n",
    "\n"
   ]
  },
  {
   "cell_type": "code",
   "execution_count": null,
   "metadata": {},
   "outputs": [],
   "source": [
    "# Call the function and check if you obtained the same results\n",
    "C_converged_2, lambda_converged_2 = solve_roothaan(S,1e-6)"
   ]
  },
  {
   "cell_type": "code",
   "execution_count": null,
   "metadata": {},
   "outputs": [],
   "source": [
    "C_converged_2, lambda_converged_2"
   ]
  },
  {
   "cell_type": "code",
   "execution_count": null,
   "metadata": {},
   "outputs": [],
   "source": []
  }
 ],
 "metadata": {
  "kernelspec": {
   "display_name": "Python 3 (ipykernel)",
   "language": "python",
   "name": "python3"
  },
  "language_info": {
   "codemirror_mode": {
    "name": "ipython",
    "version": 3
   },
   "file_extension": ".py",
   "mimetype": "text/x-python",
   "name": "python",
   "nbconvert_exporter": "python",
   "pygments_lexer": "ipython3",
   "version": "3.10.8"
  }
 },
 "nbformat": 4,
 "nbformat_minor": 4
}
